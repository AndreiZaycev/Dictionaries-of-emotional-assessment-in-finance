{
 "cells": [
  {
   "cell_type": "code",
   "execution_count": 7,
   "metadata": {
    "cellId": "sveighyeveihmfcg908gc6",
    "id": "ANv37umOU4cX"
   },
   "outputs": [],
   "source": [
    "#!g1.1\n",
    "import numpy\n",
    "import csv\n",
    "import re\n",
    "import pandas as pd\n",
    "b = './'\n",
    "path_value = b + r\"data - eurusd.csv\""
   ]
  },
  {
   "cell_type": "code",
   "execution_count": 9,
   "metadata": {
    "cellId": "jkcx8r2q7yj7trhg6r23i"
   },
   "outputs": [],
   "source": [
    "#!g1.1\n",
    "import pandas as pd\n",
    "check = pd.read_excel('18_500_gpt_annotation.xlsx')"
   ]
  },
  {
   "cell_type": "code",
   "execution_count": 10,
   "metadata": {
    "cellId": "5axc6wyceun48l3lkh291y"
   },
   "outputs": [],
   "source": [
    "#!g1.1\n",
    "import json \n",
    "columns_to_parse = ['tools','gpt_decision']\n",
    "for column in columns_to_parse:\n",
    "    check[column] = check[column].apply(lambda x: f'{x[1:-1]}'.split(','))\n",
    "check = check[(check['tools'].apply(len) == 1) & (check['uid'].apply(lambda x: x.isdigit()))]\n",
    "new_data = check[columns_to_parse + ['article_text']]\n",
    "# new_data = pd.DataFrame({'tools': new_tools, 'decision': new_decision, 'new_sentences': new_sentences})\n",
    "best_tools = ['EUR/USD', 'GBP/USD', 'USD/JPY']"
   ]
  },
  {
   "cell_type": "code",
   "execution_count": 11,
   "metadata": {
    "cellId": "218jw8m772i9uxz3jzysba"
   },
   "outputs": [
    {
     "data": {
      "text/html": [
       "<div>\n",
       "<style scoped>\n",
       "    .dataframe tbody tr th:only-of-type {\n",
       "        vertical-align: middle;\n",
       "    }\n",
       "\n",
       "    .dataframe tbody tr th {\n",
       "        vertical-align: top;\n",
       "    }\n",
       "\n",
       "    .dataframe thead th {\n",
       "        text-align: right;\n",
       "    }\n",
       "</style>\n",
       "<table border=\"1\" class=\"dataframe\">\n",
       "  <thead>\n",
       "    <tr style=\"text-align: right;\">\n",
       "      <th></th>\n",
       "      <th>uid</th>\n",
       "      <th>article_title</th>\n",
       "      <th>article_text</th>\n",
       "      <th>tools</th>\n",
       "      <th>sentences</th>\n",
       "      <th>gpt_decision</th>\n",
       "    </tr>\n",
       "  </thead>\n",
       "  <tbody>\n",
       "    <tr>\n",
       "      <th>22</th>\n",
       "      <td>293694</td>\n",
       "      <td>Technical analysis of GBP/USD for September 21...</td>\n",
       "      <td>Overview : The GBP/USD pair dropped from the l...</td>\n",
       "      <td>[GBP/USD]</td>\n",
       "      <td>{The GBP/USD pair has rebounded from the botto...</td>\n",
       "      <td>[-1]</td>\n",
       "    </tr>\n",
       "    <tr>\n",
       "      <th>23</th>\n",
       "      <td>293941</td>\n",
       "      <td>Asian stock indices trade lower today</td>\n",
       "      <td>Asian stock indices are traded lower today, wi...</td>\n",
       "      <td>[]</td>\n",
       "      <td>{Asian stock indices traded lower, with China'...</td>\n",
       "      <td>[-1]</td>\n",
       "    </tr>\n",
       "    <tr>\n",
       "      <th>24</th>\n",
       "      <td>294443</td>\n",
       "      <td>US stock market slows down</td>\n",
       "      <td>US stocks declined on Monday amid volatility i...</td>\n",
       "      <td>[]</td>\n",
       "      <td>{US stocks declined on Monday amid volatility ...</td>\n",
       "      <td>[-1]</td>\n",
       "    </tr>\n",
       "    <tr>\n",
       "      <th>25</th>\n",
       "      <td>294477</td>\n",
       "      <td>GBP/USD: plan for the US session on November 1...</td>\n",
       "      <td>To open long positions on GBP/USD, you need:Th...</td>\n",
       "      <td>[GBP/USD]</td>\n",
       "      <td>{The first half of the day, although it led to...</td>\n",
       "      <td>[-1]</td>\n",
       "    </tr>\n",
       "    <tr>\n",
       "      <th>26</th>\n",
       "      <td>294695</td>\n",
       "      <td>GBP/USD: plan for the European session on Nove...</td>\n",
       "      <td>To open long positions on GBP/USD, you need:Se...</td>\n",
       "      <td>[GBP/USD]</td>\n",
       "      <td>{The bears have run out of arguments, as the f...</td>\n",
       "      <td>[1]</td>\n",
       "    </tr>\n",
       "    <tr>\n",
       "      <th>...</th>\n",
       "      <td>...</td>\n",
       "      <td>...</td>\n",
       "      <td>...</td>\n",
       "      <td>...</td>\n",
       "      <td>...</td>\n",
       "      <td>...</td>\n",
       "    </tr>\n",
       "    <tr>\n",
       "      <th>11345</th>\n",
       "      <td>356909</td>\n",
       "      <td>Analysis and trading tips for EUR/USD on Octob...</td>\n",
       "      <td>Analysis of transactions and trading tips on E...</td>\n",
       "      <td>[EUR/USD]</td>\n",
       "      <td>{Further decline became limited because the te...</td>\n",
       "      <td>[2]</td>\n",
       "    </tr>\n",
       "    <tr>\n",
       "      <th>11346</th>\n",
       "      <td>356911</td>\n",
       "      <td>Analysis and trading tips for GBP/USD on Octob...</td>\n",
       "      <td>Analysis of transactions and trading tips on G...</td>\n",
       "      <td>[GBP/USD]</td>\n",
       "      <td>{For long positions: Buy when pound hits 1.219...</td>\n",
       "      <td>[1]</td>\n",
       "    </tr>\n",
       "    <tr>\n",
       "      <th>11347</th>\n",
       "      <td>356919</td>\n",
       "      <td>EUR/USD and GBP/USD: Technical analysis for Oc...</td>\n",
       "      <td>EUR/USD\\nHigher Timeframes\\nThe past week ende...</td>\n",
       "      <td>[EUR/USD]</td>\n",
       "      <td>{Price is trading within the weekly cloud. Bre...</td>\n",
       "      <td>[0]</td>\n",
       "    </tr>\n",
       "    <tr>\n",
       "      <th>11348</th>\n",
       "      <td>356921</td>\n",
       "      <td>GBP/USD reacts positively on U.S. jobs report:...</td>\n",
       "      <td>While the UK economy teeters on the brink of r...</td>\n",
       "      <td>[GBP/USD]</td>\n",
       "      <td>{The pound continues to move under the influen...</td>\n",
       "      <td>[0]</td>\n",
       "    </tr>\n",
       "    <tr>\n",
       "      <th>11349</th>\n",
       "      <td>356931</td>\n",
       "      <td>How will rising geopolitical crisis in Israel ...</td>\n",
       "      <td>Investors had barely time to understand why EU...</td>\n",
       "      <td>[EUR/USD]</td>\n",
       "      <td>{The armed conflict in Israel adds uncertainty...</td>\n",
       "      <td>[0]</td>\n",
       "    </tr>\n",
       "  </tbody>\n",
       "</table>\n",
       "<p>11326 rows × 6 columns</p>\n",
       "</div>"
      ],
      "text/plain": [
       "          uid                                      article_title  \\\n",
       "22     293694  Technical analysis of GBP/USD for September 21...   \n",
       "23     293941              Asian stock indices trade lower today   \n",
       "24     294443                         US stock market slows down   \n",
       "25     294477  GBP/USD: plan for the US session on November 1...   \n",
       "26     294695  GBP/USD: plan for the European session on Nove...   \n",
       "...       ...                                                ...   \n",
       "11345  356909  Analysis and trading tips for EUR/USD on Octob...   \n",
       "11346  356911  Analysis and trading tips for GBP/USD on Octob...   \n",
       "11347  356919  EUR/USD and GBP/USD: Technical analysis for Oc...   \n",
       "11348  356921  GBP/USD reacts positively on U.S. jobs report:...   \n",
       "11349  356931  How will rising geopolitical crisis in Israel ...   \n",
       "\n",
       "                                            article_text      tools  \\\n",
       "22     Overview : The GBP/USD pair dropped from the l...  [GBP/USD]   \n",
       "23     Asian stock indices are traded lower today, wi...         []   \n",
       "24     US stocks declined on Monday amid volatility i...         []   \n",
       "25     To open long positions on GBP/USD, you need:Th...  [GBP/USD]   \n",
       "26     To open long positions on GBP/USD, you need:Se...  [GBP/USD]   \n",
       "...                                                  ...        ...   \n",
       "11345  Analysis of transactions and trading tips on E...  [EUR/USD]   \n",
       "11346  Analysis of transactions and trading tips on G...  [GBP/USD]   \n",
       "11347  EUR/USD\\nHigher Timeframes\\nThe past week ende...  [EUR/USD]   \n",
       "11348  While the UK economy teeters on the brink of r...  [GBP/USD]   \n",
       "11349  Investors had barely time to understand why EU...  [EUR/USD]   \n",
       "\n",
       "                                               sentences gpt_decision  \n",
       "22     {The GBP/USD pair has rebounded from the botto...         [-1]  \n",
       "23     {Asian stock indices traded lower, with China'...         [-1]  \n",
       "24     {US stocks declined on Monday amid volatility ...         [-1]  \n",
       "25     {The first half of the day, although it led to...         [-1]  \n",
       "26     {The bears have run out of arguments, as the f...          [1]  \n",
       "...                                                  ...          ...  \n",
       "11345  {Further decline became limited because the te...          [2]  \n",
       "11346  {For long positions: Buy when pound hits 1.219...          [1]  \n",
       "11347  {Price is trading within the weekly cloud. Bre...          [0]  \n",
       "11348  {The pound continues to move under the influen...          [0]  \n",
       "11349  {The armed conflict in Israel adds uncertainty...          [0]  \n",
       "\n",
       "[11326 rows x 6 columns]"
      ]
     },
     "execution_count": 11,
     "metadata": {},
     "output_type": "execute_result"
    }
   ],
   "source": [
    "#!g1.1\n",
    "check"
   ]
  },
  {
   "cell_type": "code",
   "execution_count": 12,
   "metadata": {
    "cellId": "cfcyxjqm9salpp888nhv"
   },
   "outputs": [],
   "source": [
    "#!g1.1\n",
    "new_sentences = []\n",
    "tools, decisions = [], []\n",
    "for row in check.iterrows():\n",
    "    tool_d = row[1]['tools']\n",
    "    gpt_d = row[1]['gpt_decision']\n",
    "    sentences = row[1]['article_text']\n",
    "    for gpt, tool in zip(tool_d, gpt_d):\n",
    "        tools.append(tool)\n",
    "        new_sentences.append(sentences)\n",
    "        decisions.append(gpt)"
   ]
  },
  {
   "cell_type": "code",
   "execution_count": 13,
   "metadata": {
    "cellId": "f6e7dhu7iulpuw7knnz5r"
   },
   "outputs": [],
   "source": [
    "#!g1.1\n",
    "# new_d, new_sentences = [], []\n",
    "# for row in check.iterrows():\n",
    "#     manual = row[1]['manual_mark']\n",
    "#     gpt = row[1]['gpt_mark']\n",
    "#     sentences = row[1]['article_text']\n",
    "#     new_d.append(manual)\n",
    "#     new_sentences.append(sentences)\n",
    "#     new_d.append(gpt)\n",
    "#     new_sentences.append(sentences)"
   ]
  },
  {
   "cell_type": "code",
   "execution_count": 14,
   "metadata": {
    "cellId": "e1cxeu16wce23algbd2u5l"
   },
   "outputs": [],
   "source": [
    "#!g1.1\n",
    "import numpy as np \n",
    "new_data = pd.DataFrame({'Text EN':new_sentences, 'tool': decisions, 'label':tools})"
   ]
  },
  {
   "cell_type": "code",
   "execution_count": 15,
   "metadata": {
    "cellId": "nzw4qczd7cqoq04v8upqj"
   },
   "outputs": [
    {
     "data": {
      "text/html": [
       "<div>\n",
       "<style scoped>\n",
       "    .dataframe tbody tr th:only-of-type {\n",
       "        vertical-align: middle;\n",
       "    }\n",
       "\n",
       "    .dataframe tbody tr th {\n",
       "        vertical-align: top;\n",
       "    }\n",
       "\n",
       "    .dataframe thead th {\n",
       "        text-align: right;\n",
       "    }\n",
       "</style>\n",
       "<table border=\"1\" class=\"dataframe\">\n",
       "  <thead>\n",
       "    <tr style=\"text-align: right;\">\n",
       "      <th></th>\n",
       "      <th>Text EN</th>\n",
       "      <th>tool</th>\n",
       "      <th>label</th>\n",
       "    </tr>\n",
       "  </thead>\n",
       "  <tbody>\n",
       "    <tr>\n",
       "      <th>0</th>\n",
       "      <td>Overview : The GBP/USD pair dropped from the l...</td>\n",
       "      <td>GBP/USD</td>\n",
       "      <td>-1</td>\n",
       "    </tr>\n",
       "    <tr>\n",
       "      <th>1</th>\n",
       "      <td>Asian stock indices are traded lower today, wi...</td>\n",
       "      <td></td>\n",
       "      <td>-1</td>\n",
       "    </tr>\n",
       "    <tr>\n",
       "      <th>2</th>\n",
       "      <td>US stocks declined on Monday amid volatility i...</td>\n",
       "      <td></td>\n",
       "      <td>-1</td>\n",
       "    </tr>\n",
       "    <tr>\n",
       "      <th>3</th>\n",
       "      <td>To open long positions on GBP/USD, you need:Th...</td>\n",
       "      <td>GBP/USD</td>\n",
       "      <td>-1</td>\n",
       "    </tr>\n",
       "    <tr>\n",
       "      <th>4</th>\n",
       "      <td>To open long positions on GBP/USD, you need:Se...</td>\n",
       "      <td>GBP/USD</td>\n",
       "      <td>1</td>\n",
       "    </tr>\n",
       "    <tr>\n",
       "      <th>...</th>\n",
       "      <td>...</td>\n",
       "      <td>...</td>\n",
       "      <td>...</td>\n",
       "    </tr>\n",
       "    <tr>\n",
       "      <th>11321</th>\n",
       "      <td>Analysis of transactions and trading tips on E...</td>\n",
       "      <td>EUR/USD</td>\n",
       "      <td>2</td>\n",
       "    </tr>\n",
       "    <tr>\n",
       "      <th>11322</th>\n",
       "      <td>Analysis of transactions and trading tips on G...</td>\n",
       "      <td>GBP/USD</td>\n",
       "      <td>1</td>\n",
       "    </tr>\n",
       "    <tr>\n",
       "      <th>11323</th>\n",
       "      <td>EUR/USD\\nHigher Timeframes\\nThe past week ende...</td>\n",
       "      <td>EUR/USD</td>\n",
       "      <td>0</td>\n",
       "    </tr>\n",
       "    <tr>\n",
       "      <th>11324</th>\n",
       "      <td>While the UK economy teeters on the brink of r...</td>\n",
       "      <td>GBP/USD</td>\n",
       "      <td>0</td>\n",
       "    </tr>\n",
       "    <tr>\n",
       "      <th>11325</th>\n",
       "      <td>Investors had barely time to understand why EU...</td>\n",
       "      <td>EUR/USD</td>\n",
       "      <td>0</td>\n",
       "    </tr>\n",
       "  </tbody>\n",
       "</table>\n",
       "<p>11326 rows × 3 columns</p>\n",
       "</div>"
      ],
      "text/plain": [
       "                                                 Text EN     tool label\n",
       "0      Overview : The GBP/USD pair dropped from the l...  GBP/USD    -1\n",
       "1      Asian stock indices are traded lower today, wi...             -1\n",
       "2      US stocks declined on Monday amid volatility i...             -1\n",
       "3      To open long positions on GBP/USD, you need:Th...  GBP/USD    -1\n",
       "4      To open long positions on GBP/USD, you need:Se...  GBP/USD     1\n",
       "...                                                  ...      ...   ...\n",
       "11321  Analysis of transactions and trading tips on E...  EUR/USD     2\n",
       "11322  Analysis of transactions and trading tips on G...  GBP/USD     1\n",
       "11323  EUR/USD\\nHigher Timeframes\\nThe past week ende...  EUR/USD     0\n",
       "11324  While the UK economy teeters on the brink of r...  GBP/USD     0\n",
       "11325  Investors had barely time to understand why EU...  EUR/USD     0\n",
       "\n",
       "[11326 rows x 3 columns]"
      ]
     },
     "execution_count": 15,
     "metadata": {},
     "output_type": "execute_result"
    }
   ],
   "source": [
    "#!g1.1\n",
    "new_data"
   ]
  },
  {
   "cell_type": "code",
   "execution_count": 16,
   "metadata": {
    "cellId": "ro85z80wcxyz7nxfgxepm"
   },
   "outputs": [],
   "source": [
    "#!g1.1\n",
    "new_data = new_data[new_data['tool'] == 'EUR/USD']"
   ]
  },
  {
   "cell_type": "code",
   "execution_count": 17,
   "metadata": {
    "cellId": "r8v6yibuvyhpqsh103vwi"
   },
   "outputs": [
    {
     "name": "stderr",
     "output_type": "stream",
     "text": [
      "C:\\Users\\Андрей\\AppData\\Local\\Temp\\ipykernel_18264\\1138206666.py:2: SettingWithCopyWarning: \n",
      "A value is trying to be set on a copy of a slice from a DataFrame\n",
      "\n",
      "See the caveats in the documentation: https://pandas.pydata.org/pandas-docs/stable/user_guide/indexing.html#returning-a-view-versus-a-copy\n",
      "  new_data.drop('tool', axis=1, inplace=True)\n"
     ]
    }
   ],
   "source": [
    "#!g1.1\n",
    "new_data.drop('tool', axis=1, inplace=True)"
   ]
  },
  {
   "cell_type": "code",
   "execution_count": 18,
   "metadata": {
    "cellId": "3w6ilb986vlxbm1cv7j5pj",
    "id": "udSbAbVDU1CZ"
   },
   "outputs": [],
   "source": [
    "#!g1.1\n",
    "import warnings\n",
    "warnings.filterwarnings(\"default\")"
   ]
  },
  {
   "cell_type": "code",
   "execution_count": 21,
   "metadata": {
    "cellId": "ovygpa7qzbc009inp8butc94",
    "id": "dROHj0fkU1CZ"
   },
   "outputs": [],
   "source": [
    "#!g1.1\n",
    "b = '../Data/'\n",
    "a = pd.ExcelFile(b + \"currencies_fixed_4.xlsx\")\n",
    "tables = []\n",
    "for sheet in a.sheet_names:\n",
    "    tables.append(pd.read_excel(b + \"currencies_fixed_4.xlsx\", sheet))"
   ]
  },
  {
   "cell_type": "code",
   "execution_count": 22,
   "metadata": {
    "cellId": "044xl1xls1u2zk14gdi049",
    "id": "vmUrbzb7U1CZ"
   },
   "outputs": [],
   "source": [
    "#!g1.1\n",
    "result_table = pd.concat(tables)"
   ]
  },
  {
   "cell_type": "code",
   "execution_count": 23,
   "metadata": {
    "cellId": "qr9laa93wso43lbhwsjyj9",
    "id": "BUkON4MuU1CZ"
   },
   "outputs": [],
   "source": [
    "#!g1.1\n",
    "text = 'Text EN'"
   ]
  },
  {
   "cell_type": "code",
   "execution_count": 24,
   "metadata": {
    "cellId": "4ztac5o1pstx80celrxjz",
    "id": "zwOisT0eU1Ca"
   },
   "outputs": [],
   "source": [
    "#!g1.1\n",
    "d = result_table[(result_table[text] != '-') & (result_table['Recommendations EN\\n'] != '-\\n')]"
   ]
  },
  {
   "cell_type": "code",
   "execution_count": 25,
   "metadata": {
    "cellId": "bmfgybl5ughzjx3j9ixer",
    "colab": {
     "base_uri": "https://localhost:8080/",
     "height": 423
    },
    "id": "FCxU2ygwU1Ca",
    "outputId": "4ab1c369-6190-444d-9160-484fe3d61886"
   },
   "outputs": [
    {
     "data": {
      "text/html": [
       "<div>\n",
       "<style scoped>\n",
       "    .dataframe tbody tr th:only-of-type {\n",
       "        vertical-align: middle;\n",
       "    }\n",
       "\n",
       "    .dataframe tbody tr th {\n",
       "        vertical-align: top;\n",
       "    }\n",
       "\n",
       "    .dataframe thead th {\n",
       "        text-align: right;\n",
       "    }\n",
       "</style>\n",
       "<table border=\"1\" class=\"dataframe\">\n",
       "  <thead>\n",
       "    <tr style=\"text-align: right;\">\n",
       "      <th></th>\n",
       "      <th>Text EN</th>\n",
       "      <th>Recommendations EN\\n</th>\n",
       "    </tr>\n",
       "  </thead>\n",
       "  <tbody>\n",
       "    <tr>\n",
       "      <th>4</th>\n",
       "      <td>\"4-hour timeframeTechnical details:Higher line...</td>\n",
       "      <td>The EUR/USD pair has started a new round of do...</td>\n",
       "    </tr>\n",
       "    <tr>\n",
       "      <th>5</th>\n",
       "      <td>\"4-hour timeframeTechnical details:Higher line...</td>\n",
       "      <td>The EUR/USD pair has started a new round of do...</td>\n",
       "    </tr>\n",
       "    <tr>\n",
       "      <th>7</th>\n",
       "      <td>\"4-hour timeframeTechnical details:Higher line...</td>\n",
       "      <td>The EUR/USD pair has started a new round of do...</td>\n",
       "    </tr>\n",
       "    <tr>\n",
       "      <th>10</th>\n",
       "      <td>\"4-hour timeframeTechnical details:Higher line...</td>\n",
       "      <td>The EUR/USD pair started an upward movement an...</td>\n",
       "    </tr>\n",
       "    <tr>\n",
       "      <th>13</th>\n",
       "      <td>\"4-hour timeframeTechnical details:Higher line...</td>\n",
       "      <td>The EUR/USD pair has started a round of correc...</td>\n",
       "    </tr>\n",
       "    <tr>\n",
       "      <th>...</th>\n",
       "      <td>...</td>\n",
       "      <td>...</td>\n",
       "    </tr>\n",
       "    <tr>\n",
       "      <th>607</th>\n",
       "      <td>\"4-hour timeframe  Technical data:The upper ch...</td>\n",
       "      <td>The GBP/USD currency pair continues to trade n...</td>\n",
       "    </tr>\n",
       "    <tr>\n",
       "      <th>609</th>\n",
       "      <td>\"4-hour timeframe  Technical data: The upper c...</td>\n",
       "      <td>The GBP/USD pair continues to trade inside the...</td>\n",
       "    </tr>\n",
       "    <tr>\n",
       "      <th>610</th>\n",
       "      <td>\"4-hour timeframe  Technical data: The upper c...</td>\n",
       "      <td>The GBP/USD currency pair continues to trade s...</td>\n",
       "    </tr>\n",
       "    <tr>\n",
       "      <th>622</th>\n",
       "      <td>\"4-hour timeframe  Technical data:The upper ch...</td>\n",
       "      <td>\"The GBP/USD currency pair continues to move s...</td>\n",
       "    </tr>\n",
       "    <tr>\n",
       "      <th>624</th>\n",
       "      <td>\"4-hour timeframe  Technical data: The upper c...</td>\n",
       "      <td>\"The GBP/USD currency pair started to move sid...</td>\n",
       "    </tr>\n",
       "  </tbody>\n",
       "</table>\n",
       "<p>695 rows × 2 columns</p>\n",
       "</div>"
      ],
      "text/plain": [
       "                                               Text EN  \\\n",
       "4    \"4-hour timeframeTechnical details:Higher line...   \n",
       "5    \"4-hour timeframeTechnical details:Higher line...   \n",
       "7    \"4-hour timeframeTechnical details:Higher line...   \n",
       "10   \"4-hour timeframeTechnical details:Higher line...   \n",
       "13   \"4-hour timeframeTechnical details:Higher line...   \n",
       "..                                                 ...   \n",
       "607  \"4-hour timeframe  Technical data:The upper ch...   \n",
       "609  \"4-hour timeframe  Technical data: The upper c...   \n",
       "610  \"4-hour timeframe  Technical data: The upper c...   \n",
       "622  \"4-hour timeframe  Technical data:The upper ch...   \n",
       "624  \"4-hour timeframe  Technical data: The upper c...   \n",
       "\n",
       "                                  Recommendations EN\\n  \n",
       "4    The EUR/USD pair has started a new round of do...  \n",
       "5    The EUR/USD pair has started a new round of do...  \n",
       "7    The EUR/USD pair has started a new round of do...  \n",
       "10   The EUR/USD pair started an upward movement an...  \n",
       "13   The EUR/USD pair has started a round of correc...  \n",
       "..                                                 ...  \n",
       "607  The GBP/USD currency pair continues to trade n...  \n",
       "609  The GBP/USD pair continues to trade inside the...  \n",
       "610  The GBP/USD currency pair continues to trade s...  \n",
       "622  \"The GBP/USD currency pair continues to move s...  \n",
       "624  \"The GBP/USD currency pair started to move sid...  \n",
       "\n",
       "[695 rows x 2 columns]"
      ]
     },
     "execution_count": 25,
     "metadata": {},
     "output_type": "execute_result"
    }
   ],
   "source": [
    "#!g1.1\n",
    "x = d[[text, 'Recommendations EN\\n']]\n",
    "x"
   ]
  },
  {
   "cell_type": "code",
   "execution_count": 26,
   "metadata": {
    "cellId": "cckycqtgm0danpdr0uuhv",
    "colab": {
     "base_uri": "https://localhost:8080/"
    },
    "id": "pztxNY_kU1Ca",
    "outputId": "7cf2ba4d-caf0-4b3b-9794-32460c2cda69"
   },
   "outputs": [],
   "source": [
    "#!g1.1\n",
    "patterns = {'buy orders should be': -1,\n",
    "                'sell orders should be': 1,\n",
    "                'it is recommended to buy': -2,\n",
    "                'it is recommended to sell': 2,\n",
    "               'it is recommended to consider buying': -2,\n",
    "                'it is recommended to consider selling': 2,\n",
    "                'you can return to sell': 1,\n",
    "                'you can return to buy': -1,\n",
    "                'it is recommended to return to buying': -2,\n",
    "                'it is recommended to return to selling': 2,\n",
    "                'it is recommended to open new sell orders': 2,\n",
    "                'it is recommended to open new buy orders': -2,\n",
    "                'it is recommended to consider sell orders': 2,\n",
    "                'it is recommended to consider buy orders': -2,\n",
    "                'It is recommended to consider short positions': 2,\n",
    "                'It is recommended to consider long positions': -2,\n",
    "                'Buy orders are recommended': -2,\n",
    "                'Sell orders are recommended': 2,\n",
    "                'It is also recommended to consider buying': -2,\n",
    "                'It is also recommended to consider selling': 2,\n",
    "                'purchases of the pair will be': -1,\n",
    "                'sales of the pair will be': 1,\n",
    "                'Sales of the pair are possible now': 1,\n",
    "                \"purchases of the pair are possible now\": -1,\n",
    "                'The sale of the pair will be possible': 1,\n",
    "                \"It is recommended to open buy orders\": -2,\n",
    "                \"It is recommended to open sell orders\": 2,\n",
    "                \"it is now recommended to open buy orders\": -2,\n",
    "                \"it is now recommended to open sell orders\": 2,\n",
    "                \"It is recommended to re-consider options for opening long positions\": -1,\n",
    "                \"It is recommended to re-consider options for opening short positions\": 1,\n",
    "                \"You will not be able to buy\": -1,\n",
    "                \"You will not be able to sell\": 1,\n",
    "                \"You can sell the pair\": 1,\n",
    "                \"You can buy the pair\": -1,\n",
    "                \"You can purchase the pair\": -1,\n",
    "                \"It will be possible to return to sell positions\": 1,\n",
    "                \"It will be possible to return to buy positions\": -1,\n",
    "                \"Short positions can be considered\": 1,\n",
    "                \"Long positions can be considered\": -1\n",
    "               }\n",
    "report_texts_patterns = [\n",
    "    (-2, 'it is recommended to return to selling'), \n",
    "    (2, 'it is recommended to open new buy orders'), \n",
    "    (-1, 'you can return to sell'), \n",
    "    (1, 'purchases of the pair will be')\n",
    "]\n",
    "def label_data(x, column, patterns):   \n",
    "    cnt = 0\n",
    "    labels = [0] * len(x)\n",
    "    for i, text in enumerate(x[column]):\n",
    "        for pattern in patterns:\n",
    "            if pattern.lower() in '. '.join(text.lower().split('. ')[-5:][::-1]):\n",
    "                pop_idx = None\n",
    "                for i, (l, p) in enumerate(report_texts_patterns):\n",
    "                    if p in '. '.join(text.lower().split('. ')[-5:][::-1]):\n",
    "                        print(f'Пример размеченного текста с меткой {l} -- {\". \".join(text.lower().split(\". \")[-5:][::-1])}')\n",
    "                        pop_idx = i\n",
    "                        break \n",
    "                if pop_idx is not None:\n",
    "                    report_texts_patterns.pop(pop_idx)\n",
    "                cnt += 1\n",
    "                labels[i] = patterns[pattern]\n",
    "                break\n",
    "    print(f'Found {cnt} texts to label')\n",
    "    y = x.copy()\n",
    "    y['labels'] = labels\n",
    "    return y "
   ]
  },
  {
   "cell_type": "code",
   "execution_count": 27,
   "metadata": {
    "cellId": "k3bz8b5vt8o2mkwtimq6p"
   },
   "outputs": [
    {
     "name": "stdout",
     "output_type": "stream",
     "text": [
      "Пример размеченного текста с меткой 1 -- purchases of the pair will be possible if the pair is fixed above the moving average line with targets of 1.1780 and 1.1810, and they should be kept open until the heiken ashi indicator turns down.\n",
      ". thus, today, you should stay in short positions with targets of 1.1658 and 1.1628 until the heiken ashi indicator turns up. the eur/usd pair has started a new round of downward movement\n",
      "Пример размеченного текста с меткой 2 -- it is recommended to open new buy orders if the pair bounces off the moving average with a target of 1.2329.\n",
      ". thus, today it is recommended to hold open short positions with targets of 1.2207 and 1.2182 if the pair breaks the moving average line. the eur/usd pair has started a round of corrective movement\n",
      "Пример размеченного текста с меткой -2 -- it is recommended to return to selling the pair not before fixing the price below the moving average with the first goals of 1.1170 and 1.1108.\"\n",
      ". thus, long positions with targets of 1.1348 and 1.1475 remain relevant at this time, but only if the price rebounds from the moving average line. \"the euro/dollar pair settled above the moving average, but could not overcome the murray level of \"\"5/8\"\"\n",
      "Пример размеченного текста с меткой -1 -- you can return to sell positions after the price is fixed below the moving average line with the first targets of 1.0864 and 1.0803.\n",
      ". however, we are waiting for a downward correction against the pair's growth in the last week. thus, purchases of the european currency with the targets of 1.1047 and 1.1108 remain relevant. the euro/dollar pair is still continuing its increased upward movement\n",
      "Found 536 texts to label\n"
     ]
    }
   ],
   "source": [
    "#!g1.1\n",
    "y = label_data(x, 'Recommendations EN\\n', patterns)"
   ]
  },
  {
   "cell_type": "code",
   "execution_count": 28,
   "metadata": {
    "cellId": "4d19g0yntvl0hn7eik01hmv"
   },
   "outputs": [],
   "source": [
    "#!g1.1\n",
    "new_patterns = {\n",
    "    'Bullish Divergence': 2,\n",
    "    'Bearish Divergence': -2,\n",
    "    'Bullish Continuous Divergence': 2,\n",
    "    'Bearish Continuous Divergence': -2,\n",
    "    'Bearish Hidden Divergence': -2,\n",
    "    'Bullish Hidden Divergence': 2,\n",
    "    'bearish pressure': -2,\n",
    "    'bullish pressure': 2,\n",
    "    'bearish momentum': -2,\n",
    "    'bullish momentum': 2,\n",
    "    'bullish bias': 2,\n",
    "    'bearish bias': -2,\n",
    "    'bearish move': -2,\n",
    "    'bullish move': 2,\n",
    "    'buying with': 2,\n",
    "    'selling with': -2\n",
    "}"
   ]
  },
  {
   "cell_type": "code",
   "execution_count": 29,
   "metadata": {
    "cellId": "lyxd7xq1rezvbi17jg7z"
   },
   "outputs": [],
   "source": [
    "#!g1.1\n",
    "unparsed_texts = result_table[(result_table[text] != '-') & (result_table['Recommendations EN\\n'] == '-\\n')]"
   ]
  },
  {
   "cell_type": "code",
   "execution_count": 30,
   "metadata": {
    "cellId": "368hvgp27jpsk5miftukg"
   },
   "outputs": [
    {
     "name": "stdout",
     "output_type": "stream",
     "text": [
      "Found 714 texts to label\n"
     ]
    }
   ],
   "source": [
    "#!g1.1\n",
    "technical_view_texts = unparsed_texts[unparsed_texts[text].apply(lambda x: 'technical view' in x)]\n",
    "y1 = label_data(technical_view_texts, text, new_patterns)"
   ]
  },
  {
   "cell_type": "code",
   "execution_count": 31,
   "metadata": {
    "cellId": "a38d2ffe6v75yy158se3m",
    "id": "01BHOTvwU1Cb"
   },
   "outputs": [],
   "source": [
    "#!g1.1\n",
    "text = 'Text EN'\n",
    "target = 'labels'\n",
    "labeled_data = pd.concat([y, y1])[[text, target]]"
   ]
  },
  {
   "cell_type": "code",
   "execution_count": 32,
   "metadata": {
    "cellId": "4i1yqvcy2uvtj56z8ouj6"
   },
   "outputs": [],
   "source": [
    "#!g1.1\n",
    "labeled_data[labeled_data['labels'] != 0].to_csv(\"label_data.csv\", index=False, header=True)"
   ]
  },
  {
   "cell_type": "code",
   "execution_count": 33,
   "metadata": {
    "cellId": "1b1fr7og8td1xd9d5ubq18"
   },
   "outputs": [
    {
     "name": "stderr",
     "output_type": "stream",
     "text": [
      "C:\\Users\\Андрей\\AppData\\Local\\Temp\\ipykernel_18264\\3927595586.py:2: SettingWithCopyWarning: \n",
      "A value is trying to be set on a copy of a slice from a DataFrame\n",
      "\n",
      "See the caveats in the documentation: https://pandas.pydata.org/pandas-docs/stable/user_guide/indexing.html#returning-a-view-versus-a-copy\n",
      "  new_data.rename({'label':'labels'}, inplace=True, axis=1)\n"
     ]
    }
   ],
   "source": [
    "#!g1.1\n",
    "new_data.rename({'label':'labels'}, inplace=True, axis=1)"
   ]
  },
  {
   "cell_type": "code",
   "execution_count": 34,
   "metadata": {
    "cellId": "ovj2rftlk2l9m7t2idg35"
   },
   "outputs": [],
   "source": [
    "#!g1.1\n",
    "labeled_data = pd.concat([labeled_data, new_data])"
   ]
  },
  {
   "cell_type": "code",
   "execution_count": 35,
   "metadata": {
    "cellId": "q1qc63vjz8h5wg3y33xc"
   },
   "outputs": [],
   "source": [
    "#!g1.1\n",
    "labeled_data['labels'] = labeled_data['labels'].astype(int)"
   ]
  },
  {
   "cell_type": "code",
   "execution_count": 36,
   "metadata": {
    "cellId": "0cokaf4p9u0auvyq48j6fh"
   },
   "outputs": [],
   "source": [
    "#!g1.1\n",
    "labeled_data = labeled_data.drop_duplicates([text])"
   ]
  },
  {
   "cell_type": "code",
   "execution_count": null,
   "metadata": {
    "cellId": "mlruesdiddjxn6y5fn8w7",
    "colab": {
     "base_uri": "https://localhost:8080/",
     "height": 34,
     "referenced_widgets": [
      "1f1af633887d49d18f00d3f37691b587"
     ]
    },
    "id": "k-28px2zVwEm",
    "outputId": "4381be06-194b-4bbd-9d2e-560ca1e0c094",
    "scrolled": true
   },
   "outputs": [],
   "source": [
    "#!g1.1\n",
    "# Load model directly\n",
    "from transformers import AutoTokenizer, AutoModelForSequenceClassification\n",
    "\n",
    "tokenizer = AutoTokenizer.from_pretrained(\"ProsusAI/finbert\")\n",
    "model = AutoModelForSequenceClassification.from_pretrained(\"ProsusAI/finbert\")"
   ]
  },
  {
   "cell_type": "code",
   "execution_count": 38,
   "metadata": {
    "cellId": "c8cy3tj2mzn1fela4cwudh"
   },
   "outputs": [],
   "source": [
    "#!g1.1\n",
    "for param in model.parameters():\n",
    "    param.requires_grad=False\n",
    "\n",
    "model.gradient_checkpointing_enable()  # only store a small subset of activations, re-compute the rest.\n",
    "model.enable_input_require_grads() "
   ]
  },
  {
   "cell_type": "code",
   "execution_count": 39,
   "metadata": {
    "cellId": "lmcdhbtz6srq19r9oq7hx",
    "id": "X0OmsJ-sVMNQ"
   },
   "outputs": [],
   "source": [
    "#!g1.1\n",
    "labels_mapper = {\n",
    "    -2: 0,\n",
    "    -1: 1,\n",
    "    0: 2,\n",
    "    1: 3,\n",
    "    2: 4\n",
    "}\n",
    "\n",
    "def map_labels(x):\n",
    "    return labels_mapper[int(x)]"
   ]
  },
  {
   "cell_type": "code",
   "execution_count": 40,
   "metadata": {
    "cellId": "q88o56oxkfcd95wnm7hcr"
   },
   "outputs": [],
   "source": [
    "#!g1.1\n",
    "labeled_data['labels'] = labeled_data['labels'].apply(map_labels)"
   ]
  },
  {
   "cell_type": "code",
   "execution_count": null,
   "metadata": {
    "cellId": "3ddbelnf4a4jtkhejtkauq",
    "id": "oeMIyLtBcFIk"
   },
   "outputs": [],
   "source": [
    "#!g1.1\n",
    "!pip install datasets\n",
    "!pip install evaluate\n",
    "!pip install accelerate -U"
   ]
  },
  {
   "cell_type": "code",
   "execution_count": 41,
   "metadata": {
    "cellId": "tw2ekv2hnjlqdpn76lyyh"
   },
   "outputs": [
    {
     "data": {
      "text/plain": [
       "BertForSequenceClassification(\n",
       "  (bert): BertModel(\n",
       "    (embeddings): BertEmbeddings(\n",
       "      (word_embeddings): Embedding(30522, 768, padding_idx=0)\n",
       "      (position_embeddings): Embedding(512, 768)\n",
       "      (token_type_embeddings): Embedding(2, 768)\n",
       "      (LayerNorm): LayerNorm((768,), eps=1e-12, elementwise_affine=True)\n",
       "      (dropout): Dropout(p=0.1, inplace=False)\n",
       "    )\n",
       "    (encoder): BertEncoder(\n",
       "      (layer): ModuleList(\n",
       "        (0-11): 12 x BertLayer(\n",
       "          (attention): BertAttention(\n",
       "            (self): BertSelfAttention(\n",
       "              (query): Linear(in_features=768, out_features=768, bias=True)\n",
       "              (key): Linear(in_features=768, out_features=768, bias=True)\n",
       "              (value): Linear(in_features=768, out_features=768, bias=True)\n",
       "              (dropout): Dropout(p=0.1, inplace=False)\n",
       "            )\n",
       "            (output): BertSelfOutput(\n",
       "              (dense): Linear(in_features=768, out_features=768, bias=True)\n",
       "              (LayerNorm): LayerNorm((768,), eps=1e-12, elementwise_affine=True)\n",
       "              (dropout): Dropout(p=0.1, inplace=False)\n",
       "            )\n",
       "          )\n",
       "          (intermediate): BertIntermediate(\n",
       "            (dense): Linear(in_features=768, out_features=3072, bias=True)\n",
       "            (intermediate_act_fn): GELUActivation()\n",
       "          )\n",
       "          (output): BertOutput(\n",
       "            (dense): Linear(in_features=3072, out_features=768, bias=True)\n",
       "            (LayerNorm): LayerNorm((768,), eps=1e-12, elementwise_affine=True)\n",
       "            (dropout): Dropout(p=0.1, inplace=False)\n",
       "          )\n",
       "        )\n",
       "      )\n",
       "    )\n",
       "    (pooler): BertPooler(\n",
       "      (dense): Linear(in_features=768, out_features=768, bias=True)\n",
       "      (activation): Tanh()\n",
       "    )\n",
       "  )\n",
       "  (dropout): Dropout(p=0.1, inplace=False)\n",
       "  (classifier): Linear(in_features=768, out_features=3, bias=True)\n",
       ")"
      ]
     },
     "execution_count": 41,
     "metadata": {},
     "output_type": "execute_result"
    }
   ],
   "source": [
    "#!g1.1\n",
    "model"
   ]
  },
  {
   "cell_type": "code",
   "execution_count": null,
   "metadata": {},
   "outputs": [],
   "source": [
    "!pip install torch"
   ]
  },
  {
   "cell_type": "code",
   "execution_count": 42,
   "metadata": {
    "cellId": "6gqn1z90s7p26i99y5qp0f"
   },
   "outputs": [],
   "source": [
    "#!g1.1\n",
    "import torch\n",
    "import torch.nn as nn\n",
    "import torch.nn.functional as F\n",
    "\n",
    "import transformers\n",
    "from tqdm.auto import tqdm, trange"
   ]
  },
  {
   "cell_type": "code",
   "execution_count": 5,
   "metadata": {
    "cellId": "bntegwi5ab4eh208mpf0x"
   },
   "outputs": [
    {
     "name": "stdout",
     "output_type": "stream",
     "text": [
      "Defaulting to user installation because normal site-packages is not writeable\n",
      "Collecting peft\n",
      "  Obtaining dependency information for peft from https://files.pythonhosted.org/packages/14/0b/8402305043884c76a9d98e5e924c3f2211c75b02acd5b742e6c45d70506d/peft-0.6.2-py3-none-any.whl.metadata\n",
      "  Downloading peft-0.6.2-py3-none-any.whl.metadata (23 kB)\n",
      "Requirement already satisfied: numpy>=1.17 in c:\\programdata\\anaconda3\\lib\\site-packages (from peft) (1.24.3)\n",
      "Requirement already satisfied: packaging>=20.0 in c:\\programdata\\anaconda3\\lib\\site-packages (from peft) (23.1)\n",
      "Requirement already satisfied: psutil in c:\\programdata\\anaconda3\\lib\\site-packages (from peft) (5.9.0)\n",
      "Requirement already satisfied: pyyaml in c:\\programdata\\anaconda3\\lib\\site-packages (from peft) (6.0)\n",
      "Requirement already satisfied: torch>=1.13.0 in c:\\users\\андрей\\appdata\\roaming\\python\\python311\\site-packages (from peft) (2.1.1)\n",
      "Requirement already satisfied: transformers in c:\\programdata\\anaconda3\\lib\\site-packages (from peft) (4.32.1)\n",
      "Requirement already satisfied: tqdm in c:\\programdata\\anaconda3\\lib\\site-packages (from peft) (4.65.0)\n",
      "Collecting accelerate>=0.21.0 (from peft)\n",
      "  Obtaining dependency information for accelerate>=0.21.0 from https://files.pythonhosted.org/packages/f7/fc/c55e5a2da345c9a24aa2e1e0f60eb2ca290b6a41be82da03a6d4baec4f99/accelerate-0.25.0-py3-none-any.whl.metadata\n",
      "  Downloading accelerate-0.25.0-py3-none-any.whl.metadata (18 kB)\n",
      "Requirement already satisfied: safetensors in c:\\programdata\\anaconda3\\lib\\site-packages (from peft) (0.3.2)\n",
      "Requirement already satisfied: huggingface-hub in c:\\programdata\\anaconda3\\lib\\site-packages (from accelerate>=0.21.0->peft) (0.15.1)\n",
      "Requirement already satisfied: filelock in c:\\programdata\\anaconda3\\lib\\site-packages (from torch>=1.13.0->peft) (3.9.0)\n",
      "Requirement already satisfied: typing-extensions in c:\\programdata\\anaconda3\\lib\\site-packages (from torch>=1.13.0->peft) (4.7.1)\n",
      "Requirement already satisfied: sympy in c:\\programdata\\anaconda3\\lib\\site-packages (from torch>=1.13.0->peft) (1.11.1)\n",
      "Requirement already satisfied: networkx in c:\\programdata\\anaconda3\\lib\\site-packages (from torch>=1.13.0->peft) (3.1)\n",
      "Requirement already satisfied: jinja2 in c:\\programdata\\anaconda3\\lib\\site-packages (from torch>=1.13.0->peft) (3.1.2)\n",
      "Requirement already satisfied: fsspec in c:\\programdata\\anaconda3\\lib\\site-packages (from torch>=1.13.0->peft) (2023.4.0)\n",
      "Requirement already satisfied: colorama in c:\\programdata\\anaconda3\\lib\\site-packages (from tqdm->peft) (0.4.6)\n",
      "Requirement already satisfied: regex!=2019.12.17 in c:\\programdata\\anaconda3\\lib\\site-packages (from transformers->peft) (2022.7.9)\n",
      "Requirement already satisfied: requests in c:\\programdata\\anaconda3\\lib\\site-packages (from transformers->peft) (2.31.0)\n",
      "Requirement already satisfied: tokenizers!=0.11.3,<0.14,>=0.11.1 in c:\\programdata\\anaconda3\\lib\\site-packages (from transformers->peft) (0.13.2)\n",
      "Requirement already satisfied: MarkupSafe>=2.0 in c:\\programdata\\anaconda3\\lib\\site-packages (from jinja2->torch>=1.13.0->peft) (2.1.1)\n",
      "Requirement already satisfied: charset-normalizer<4,>=2 in c:\\programdata\\anaconda3\\lib\\site-packages (from requests->transformers->peft) (2.0.4)\n",
      "Requirement already satisfied: idna<4,>=2.5 in c:\\programdata\\anaconda3\\lib\\site-packages (from requests->transformers->peft) (3.4)\n",
      "Requirement already satisfied: urllib3<3,>=1.21.1 in c:\\programdata\\anaconda3\\lib\\site-packages (from requests->transformers->peft) (1.26.16)\n",
      "Requirement already satisfied: certifi>=2017.4.17 in c:\\programdata\\anaconda3\\lib\\site-packages (from requests->transformers->peft) (2023.7.22)\n",
      "Requirement already satisfied: mpmath>=0.19 in c:\\programdata\\anaconda3\\lib\\site-packages (from sympy->torch>=1.13.0->peft) (1.3.0)\n",
      "Downloading peft-0.6.2-py3-none-any.whl (174 kB)\n",
      "   ---------------------------------------- 0.0/174.7 kB ? eta -:--:--\n",
      "   --------- ----------------------------- 41.0/174.7 kB 991.0 kB/s eta 0:00:01\n",
      "   -------------------------------- ------- 143.4/174.7 kB 1.7 MB/s eta 0:00:01\n",
      "   ---------------------------------------- 174.7/174.7 kB 1.7 MB/s eta 0:00:00\n",
      "Downloading accelerate-0.25.0-py3-none-any.whl (265 kB)\n",
      "   ---------------------------------------- 0.0/265.7 kB ? eta -:--:--\n",
      "   ---------------- ----------------------- 112.6/265.7 kB ? eta -:--:--\n",
      "   ---------------------------------------- 265.7/265.7 kB 4.1 MB/s eta 0:00:00\n",
      "Installing collected packages: accelerate, peft\n",
      "Successfully installed accelerate-0.25.0 peft-0.6.2\n"
     ]
    },
    {
     "name": "stderr",
     "output_type": "stream",
     "text": [
      "  WARNING: The scripts accelerate-config.exe, accelerate-estimate-memory.exe, accelerate-launch.exe and accelerate.exe are installed in 'C:\\Users\\Андрей\\AppData\\Roaming\\Python\\Python311\\Scripts' which is not on PATH.\n",
      "  Consider adding this directory to PATH or, if you prefer to suppress this warning, use --no-warn-script-location.\n"
     ]
    }
   ],
   "source": [
    "#!g1.1\n",
    "!pip install peft"
   ]
  },
  {
   "cell_type": "code",
   "execution_count": 43,
   "metadata": {
    "cellId": "nns8215b89lh2tyog7sv4f"
   },
   "outputs": [],
   "source": [
    "#!g1.1\n",
    "def print_trainable_parameters(model):\n",
    "    \"\"\"\n",
    "    Prints the number of trainable parameters in the model.\n",
    "    \"\"\"\n",
    "    trainable_params = 0\n",
    "    all_param = 0\n",
    "    for _, param in model.named_parameters():\n",
    "        all_param += param.numel()\n",
    "        if param.requires_grad:\n",
    "            trainable_params += param.numel()\n",
    "    print(\n",
    "        f\"trainable params: {trainable_params} || all params: {all_param} || trainable%: {100 * trainable_params / all_param:.2f}\"\n",
    "    )"
   ]
  },
  {
   "cell_type": "code",
   "execution_count": 44,
   "metadata": {
    "cellId": "pkbncb73mshnccdu4ok9wl"
   },
   "outputs": [],
   "source": [
    "#!g1.1\n",
    "num_of_out_classes = 5\n",
    "sentiment_predictor = torch.nn.Linear(model.classifier.in_features, num_of_out_classes)\n",
    "model.classifier = sentiment_predictor\n",
    "model.num_labels = num_of_out_classes"
   ]
  },
  {
   "cell_type": "code",
   "execution_count": 45,
   "metadata": {
    "cellId": "33dh7bwhkkm53fs1wflv8e"
   },
   "outputs": [
    {
     "name": "stdout",
     "output_type": "stream",
     "text": [
      "trainable params: 593669 || all params: 110079754 || trainable%: 0.54\n"
     ]
    }
   ],
   "source": [
    "#!g1.1\n",
    "from peft import LoraConfig, get_peft_model\n",
    "config = LoraConfig(\n",
    "    r=16,\n",
    "    lora_alpha=16,\n",
    "    target_modules=[\"query\", \"value\", 'classifier'],\n",
    "    lora_dropout=0.1,\n",
    "    bias=\"none\",\n",
    "    modules_to_save=[\"classifier\"],\n",
    ")\n",
    "lora_model = get_peft_model(model, config)\n",
    "print_trainable_parameters(lora_model)"
   ]
  },
  {
   "cell_type": "code",
   "execution_count": 46,
   "metadata": {
    "cellId": "6iz0ovnb0icn2ve1monii"
   },
   "outputs": [],
   "source": [
    "#!g1.1\n",
    "from transformers import AutoModelForSemanticSegmentation, TrainingArguments, Trainer\n",
    "training_args = TrainingArguments(\n",
    "    output_dir=f\"lora_finbert\",\n",
    "    learning_rate=5e-4,\n",
    "    num_train_epochs=20,\n",
    "    per_device_train_batch_size=1,\n",
    "    per_device_eval_batch_size=1,\n",
    "    save_total_limit=3,\n",
    "    evaluation_strategy=\"epoch\",\n",
    "    save_strategy=\"epoch\",\n",
    "    logging_steps=5,\n",
    "    remove_unused_columns=False,\n",
    "    push_to_hub=True,\n",
    "    label_names=[\"label\"],\n",
    ")"
   ]
  },
  {
   "cell_type": "code",
   "execution_count": 47,
   "metadata": {
    "cellId": "refw5zjmwfh5ra7suwa6a"
   },
   "outputs": [],
   "source": [
    "#!g1.1\n",
    "labeled_data.rename({'labels':'label'}, axis=1, inplace=True)"
   ]
  },
  {
   "cell_type": "code",
   "execution_count": 48,
   "metadata": {
    "cellId": "gkj4xdtrb1noet0avkzhic"
   },
   "outputs": [],
   "source": [
    "#!g1.1\n",
    "labeled_data.to_csv('data_for_finbert', index=None)"
   ]
  },
  {
   "cell_type": "code",
   "execution_count": 49,
   "metadata": {
    "cellId": "uceglubhyjhx6g9oet6tt"
   },
   "outputs": [],
   "source": [
    "#!g1.1\n",
    "from datasets import load_dataset"
   ]
  },
  {
   "cell_type": "code",
   "execution_count": 68,
   "metadata": {
    "cellId": "wtnvmy59j7ogsc19iyhb9"
   },
   "outputs": [
    {
     "name": "stderr",
     "output_type": "stream",
     "text": [
      "Found cached dataset csv (C:/Users/Андрей/.cache/huggingface/datasets/csv/default-8a8d0bcde909d2f5/0.0.0/6954658bab30a358235fa864b05cf819af0e179325c740e4bc853bcc7ec513e1)\n",
      "C:\\ProgramData\\anaconda3\\Lib\\site-packages\\ipywidgets\\widgets\\widget.py:528: DeprecationWarning: The `ipykernel.comm.Comm` class has been deprecated. Please use the `comm` module instead.For creating comms, use the function `from comm import create_comm`.\n",
      "  self.comm = Comm(**args)\n"
     ]
    },
    {
     "data": {
      "application/vnd.jupyter.widget-view+json": {
       "model_id": "",
       "version_major": 2,
       "version_minor": 0
      },
      "text/plain": [
       "Map:   0%|          | 0/6309 [00:00<?, ? examples/s]"
      ]
     },
     "metadata": {},
     "output_type": "display_data"
    }
   ],
   "source": [
    "#!g1.1\n",
    "data = load_dataset(\"csv\", data_files=\"data_for_finbert\", split='train')\n",
    "def tokenize_function(examples):\n",
    "    return tokenizer(examples[\"Text EN\"], padding=\"max_length\", truncation=True, return_tensors='pt')\n",
    "data = data.map(tokenize_function, batched=True)"
   ]
  },
  {
   "cell_type": "code",
   "execution_count": 69,
   "metadata": {
    "cellId": "13zg60cgu1djh3z00k7y"
   },
   "outputs": [],
   "source": [
    "#!g1.1\n",
    "data = data.train_test_split(test_size=0.1)\n",
    "train_data = data[\"train\"]\n",
    "test_data = data[\"test\"]"
   ]
  },
  {
   "cell_type": "code",
   "execution_count": 52,
   "metadata": {
    "cellId": "yoqnw7pjj3qfn3shwq8h"
   },
   "outputs": [],
   "source": [
    "#!g1.1\n",
    "import evaluate"
   ]
  },
  {
   "cell_type": "code",
   "execution_count": 311,
   "metadata": {
    "cellId": "6ei07cr124a7bqy97gyp0u"
   },
   "outputs": [
    {
     "data": {
      "application/vnd.jupyter.widget-view+json": {
       "model_id": "c19a133c9505432bbf89abe7326c9af9",
       "version_major": 2,
       "version_minor": 0
      },
      "text/plain": [
       "VBox(children=(HTML(value='<center> <img\\nsrc=https://huggingface.co/front/assets/huggingface_logo-noborder.sv…"
      ]
     },
     "metadata": {},
     "output_type": "display_data"
    },
    {
     "name": "stderr",
     "output_type": "stream",
     "text": [
      "sys:1: ResourceWarning: Unclosed socket <zmq.Socket(zmq.PUSH) at 0x7fae4ca5bdc0>\n",
      "ResourceWarning: Enable tracemalloc to get the object allocation traceback\n"
     ]
    }
   ],
   "source": [
    "#!g1.1\n",
    "from huggingface_hub import notebook_login\n",
    "\n",
    "notebook_login()"
   ]
  },
  {
   "cell_type": "code",
   "execution_count": 53,
   "metadata": {
    "cellId": "pdvjrvgj7ua0ekn05e2h1r"
   },
   "outputs": [
    {
     "data": {
      "application/vnd.jupyter.widget-view+json": {
       "model_id": "5a9aa75bc587472f919ee02f5dcedc08",
       "version_major": 2,
       "version_minor": 0
      },
      "text/plain": [
       "Downloading builder script:   0%|          | 0.00/4.20k [00:00<?, ?B/s]"
      ]
     },
     "metadata": {},
     "output_type": "display_data"
    }
   ],
   "source": [
    "#!g1.1\n",
    "metric = evaluate.load('accuracy')\n",
    "def compute_metrics(eval_pred):\n",
    "    logits, labels = eval_pred\n",
    "    predictions = np.argmax(logits, axis=-1)\n",
    "    return metric.compute(predictions=predictions, references=labels)"
   ]
  },
  {
   "cell_type": "code",
   "execution_count": null,
   "metadata": {
    "cellId": "61cftlw6djbz7m3o6i435f"
   },
   "outputs": [],
   "source": [
    "#!g1.1\n",
    "trainer = Trainer(\n",
    "    model=lora_model,\n",
    "    args=training_args,\n",
    "    train_dataset=train_data,\n",
    "    eval_dataset=test_data,\n",
    "    compute_metrics=compute_metrics,\n",
    "    \n",
    ")\n",
    "\n",
    "trainer.train(resume_from_checkpoint='checkpoin/')"
   ]
  },
  {
   "cell_type": "code",
   "execution_count": 56,
   "metadata": {
    "cellId": "woum846m46gdfje5tyxaa"
   },
   "outputs": [],
   "source": [
    "#!g1.1\n",
    "checkpoint_file = 'checkpoint-113560/adapter_model.bin'\n",
    "checkpoint = torch.load(checkpoint_file, map_location=torch.device('cpu'))\n",
    "from transformers import AutoTokenizer, AutoModelForSequenceClassification\n",
    "num_of_out_classes = 5\n",
    "tokenizer = AutoTokenizer.from_pretrained(\"ProsusAI/finbert\")\n",
    "model = AutoModelForSequenceClassification.from_pretrained(\"ProsusAI/finbert\")\n",
    "sentiment_predictor = torch.nn.Linear(model.classifier.in_features, num_of_out_classes)\n",
    "model.classifier = sentiment_predictor\n",
    "model.num_labels = num_of_out_classes"
   ]
  },
  {
   "cell_type": "code",
   "execution_count": 57,
   "metadata": {
    "cellId": "penugp4gy0giss37rqo4a"
   },
   "outputs": [],
   "source": [
    "#!g1.1\n",
    "from peft import LoraConfig, get_peft_model\n",
    "config = LoraConfig(\n",
    "    r=16,\n",
    "    lora_alpha=16,\n",
    "    target_modules=[\"query\", \"value\", 'classifier'],\n",
    "    lora_dropout=0.1,\n",
    "    bias=\"none\",\n",
    "    modules_to_save=[\"classifier\"],\n",
    ")\n",
    "lora_model = get_peft_model(model, config)"
   ]
  },
  {
   "cell_type": "code",
   "execution_count": 58,
   "metadata": {
    "cellId": "s2upi4slwzyr82pgauub"
   },
   "outputs": [
    {
     "data": {
      "text/plain": [
       "'default'"
      ]
     },
     "execution_count": 58,
     "metadata": {},
     "output_type": "execute_result"
    }
   ],
   "source": [
    "#!g1.1\n",
    "lora_model.active_adapter"
   ]
  },
  {
   "cell_type": "code",
   "execution_count": null,
   "metadata": {
    "cellId": "3czzv1ifkfse4ddqnfa5ee"
   },
   "outputs": [],
   "source": [
    "#!g1.1\n",
    "lora_model.load_adapter('checkpoint-113560/', lora_model.active_adapter)"
   ]
  },
  {
   "cell_type": "code",
   "execution_count": 61,
   "metadata": {
    "cellId": "q9hk5iuchvc8kxazrhfkg"
   },
   "outputs": [],
   "source": [
    "#!g1.1\n",
    "text = ['today i recommend you to buy EUR/USD', 'today i recommend you to sell EUR/USD']"
   ]
  },
  {
   "cell_type": "code",
   "execution_count": 62,
   "metadata": {
    "cellId": "tlfcczy0qrqyaei4fxbevf"
   },
   "outputs": [],
   "source": [
    "#!g1.1\n",
    "tokenized = tokenizer(text, padding='max_length', truncation=True, return_tensors='pt')"
   ]
  },
  {
   "cell_type": "code",
   "execution_count": 63,
   "metadata": {
    "cellId": "uy2mrw1qp7dk8oz06f77ds"
   },
   "outputs": [
    {
     "name": "stdout",
     "output_type": "stream",
     "text": [
      "tensor([3, 1])\n"
     ]
    }
   ],
   "source": [
    "#!g1.1\n",
    "with torch.no_grad():\n",
    "    print(torch.argmax(lora_model(**tokenized)['logits'], dim=-1))"
   ]
  },
  {
   "cell_type": "code",
   "execution_count": null,
   "metadata": {
    "cellId": "8age5d43aeffhve6zhmmh",
    "colab": {
     "base_uri": "https://localhost:8080/"
    },
    "id": "MskZqvvMBbd6",
    "outputId": "9ffd88d9-1ad9-49d0-8917-ed69390ca7a8"
   },
   "outputs": [],
   "source": [
    "#!g1.1\n",
    "def make_prediction(text):\n",
    "    batch = tokenizer(text, padding='max_length', truncation=True, return_tensors='pt')\n",
    "    preprocess_batch(batch)\n",
    "    with torch.inference_mode():\n",
    "        answer = model(**batch).logits\n",
    "    return torch.argmax(answer, dim=-1)\n",
    "\n",
    "make_prediction(\"\")"
   ]
  },
  {
   "cell_type": "code",
   "execution_count": 78,
   "metadata": {},
   "outputs": [
    {
     "name": "stderr",
     "output_type": "stream",
     "text": [
      "100%|████████████████████████████████████████████████████████████████████████████████| 631/631 [10:28<00:00,  1.00it/s]\n"
     ]
    },
    {
     "data": {
      "text/plain": [
       "590"
      ]
     },
     "execution_count": 78,
     "metadata": {},
     "output_type": "execute_result"
    }
   ],
   "source": [
    "from tqdm import tqdm\n",
    "def accuracy(x, y):\n",
    "    if (x in [0, 1] and y in [0, 1]) or (x in [3, 4] and y in [3, 4]) or (x == 2 and y == 2): \n",
    "        return 1\n",
    "    return 0 \n",
    "s = 0 \n",
    "for data in tqdm(test_data):\n",
    "    y = data['label']\n",
    "    data.pop('Text EN')\n",
    "    data.pop('label')\n",
    "    with torch.inference_mode():\n",
    "        logit = lora_model(**{k: torch.tensor([v]) for k, v in data.items()})['logits']\n",
    "    s += accuracy(torch.argmax(logit, dim=-1).item(), y)\n",
    "s"
   ]
  },
  {
   "cell_type": "code",
   "execution_count": 79,
   "metadata": {},
   "outputs": [
    {
     "data": {
      "text/plain": [
       "0.9350237717908082"
      ]
     },
     "execution_count": 79,
     "metadata": {},
     "output_type": "execute_result"
    }
   ],
   "source": [
    "s / len(test_data)"
   ]
  }
 ],
 "metadata": {
  "colab": {
   "provenance": []
  },
  "kernelspec": {
   "display_name": "Python 3 (ipykernel)",
   "language": "python",
   "name": "python3"
  },
  "language_info": {
   "codemirror_mode": {
    "name": "ipython",
    "version": 3
   },
   "file_extension": ".py",
   "mimetype": "text/x-python",
   "name": "python",
   "nbconvert_exporter": "python",
   "pygments_lexer": "ipython3",
   "version": "3.11.5"
  },
  "notebookId": "88680627-82a9-493b-a5ca-ffdcca63d98d",
  "notebookPath": "financial_analysis.ipynb",
  "widgets": {
   "application/vnd.jupyter.widget-state+json": {
    "01f3bc90ef49488cbcb6ac5f94580b01": {
     "model_module": "@jupyter-widgets/controls",
     "model_module_version": "1.5.0",
     "model_name": "ProgressStyleModel",
     "state": {
      "_model_module": "@jupyter-widgets/controls",
      "_model_module_version": "1.5.0",
      "_model_name": "ProgressStyleModel",
      "_view_count": null,
      "_view_module": "@jupyter-widgets/base",
      "_view_module_version": "1.2.0",
      "_view_name": "StyleView",
      "bar_color": null,
      "description_width": ""
     }
    },
    "02c94446b5f54e8b8ba809ea619f2c68": {
     "model_module": "@jupyter-widgets/controls",
     "model_module_version": "1.5.0",
     "model_name": "HTMLModel",
     "state": {
      "_dom_classes": [],
      "_model_module": "@jupyter-widgets/controls",
      "_model_module_version": "1.5.0",
      "_model_name": "HTMLModel",
      "_view_count": null,
      "_view_module": "@jupyter-widgets/controls",
      "_view_module_version": "1.5.0",
      "_view_name": "HTMLView",
      "description": "",
      "description_tooltip": null,
      "layout": "IPY_MODEL_a0d1c252c5a54549b086c3ddf4a9fb25",
      "placeholder": "​",
      "style": "IPY_MODEL_2d425915202142e1a7cf53b27b44b77b",
      "value": "Map: 100%"
     }
    },
    "06f6305c5af84fc5ae5f4b274a70ee3f": {
     "model_module": "@jupyter-widgets/controls",
     "model_module_version": "1.5.0",
     "model_name": "HTMLModel",
     "state": {
      "_dom_classes": [],
      "_model_module": "@jupyter-widgets/controls",
      "_model_module_version": "1.5.0",
      "_model_name": "HTMLModel",
      "_view_count": null,
      "_view_module": "@jupyter-widgets/controls",
      "_view_module_version": "1.5.0",
      "_view_name": "HTMLView",
      "description": "",
      "description_tooltip": null,
      "layout": "IPY_MODEL_ec2be8822f784af1ae05bcb4bc9b8dab",
      "placeholder": "​",
      "style": "IPY_MODEL_2d851fa5e733476ab961f1fbaf54d27e",
      "value": "  1%"
     }
    },
    "2a188fbc5e314be998483a51f55d5d53": {
     "model_module": "@jupyter-widgets/base",
     "model_module_version": "1.2.0",
     "model_name": "LayoutModel",
     "state": {
      "_model_module": "@jupyter-widgets/base",
      "_model_module_version": "1.2.0",
      "_model_name": "LayoutModel",
      "_view_count": null,
      "_view_module": "@jupyter-widgets/base",
      "_view_module_version": "1.2.0",
      "_view_name": "LayoutView",
      "align_content": null,
      "align_items": null,
      "align_self": null,
      "border": null,
      "bottom": null,
      "display": null,
      "flex": null,
      "flex_flow": null,
      "grid_area": null,
      "grid_auto_columns": null,
      "grid_auto_flow": null,
      "grid_auto_rows": null,
      "grid_column": null,
      "grid_gap": null,
      "grid_row": null,
      "grid_template_areas": null,
      "grid_template_columns": null,
      "grid_template_rows": null,
      "height": null,
      "justify_content": null,
      "justify_items": null,
      "left": null,
      "margin": null,
      "max_height": null,
      "max_width": null,
      "min_height": null,
      "min_width": null,
      "object_fit": null,
      "object_position": null,
      "order": null,
      "overflow": null,
      "overflow_x": null,
      "overflow_y": null,
      "padding": null,
      "right": null,
      "top": null,
      "visibility": null,
      "width": null
     }
    },
    "2d2d0f840085488eb6266f69bfd9f785": {
     "model_module": "@jupyter-widgets/base",
     "model_module_version": "1.2.0",
     "model_name": "LayoutModel",
     "state": {
      "_model_module": "@jupyter-widgets/base",
      "_model_module_version": "1.2.0",
      "_model_name": "LayoutModel",
      "_view_count": null,
      "_view_module": "@jupyter-widgets/base",
      "_view_module_version": "1.2.0",
      "_view_name": "LayoutView",
      "align_content": null,
      "align_items": null,
      "align_self": null,
      "border": null,
      "bottom": null,
      "display": null,
      "flex": null,
      "flex_flow": null,
      "grid_area": null,
      "grid_auto_columns": null,
      "grid_auto_flow": null,
      "grid_auto_rows": null,
      "grid_column": null,
      "grid_gap": null,
      "grid_row": null,
      "grid_template_areas": null,
      "grid_template_columns": null,
      "grid_template_rows": null,
      "height": null,
      "justify_content": null,
      "justify_items": null,
      "left": null,
      "margin": null,
      "max_height": null,
      "max_width": null,
      "min_height": null,
      "min_width": null,
      "object_fit": null,
      "object_position": null,
      "order": null,
      "overflow": null,
      "overflow_x": null,
      "overflow_y": null,
      "padding": null,
      "right": null,
      "top": null,
      "visibility": null,
      "width": null
     }
    },
    "2d425915202142e1a7cf53b27b44b77b": {
     "model_module": "@jupyter-widgets/controls",
     "model_module_version": "1.5.0",
     "model_name": "DescriptionStyleModel",
     "state": {
      "_model_module": "@jupyter-widgets/controls",
      "_model_module_version": "1.5.0",
      "_model_name": "DescriptionStyleModel",
      "_view_count": null,
      "_view_module": "@jupyter-widgets/base",
      "_view_module_version": "1.2.0",
      "_view_name": "StyleView",
      "description_width": ""
     }
    },
    "2d851fa5e733476ab961f1fbaf54d27e": {
     "model_module": "@jupyter-widgets/controls",
     "model_module_version": "1.5.0",
     "model_name": "DescriptionStyleModel",
     "state": {
      "_model_module": "@jupyter-widgets/controls",
      "_model_module_version": "1.5.0",
      "_model_name": "DescriptionStyleModel",
      "_view_count": null,
      "_view_module": "@jupyter-widgets/base",
      "_view_module_version": "1.2.0",
      "_view_name": "StyleView",
      "description_width": ""
     }
    },
    "31a1937c229d4fd9b02ffa4259fe8525": {
     "model_module": "@jupyter-widgets/controls",
     "model_module_version": "1.5.0",
     "model_name": "HBoxModel",
     "state": {
      "_dom_classes": [],
      "_model_module": "@jupyter-widgets/controls",
      "_model_module_version": "1.5.0",
      "_model_name": "HBoxModel",
      "_view_count": null,
      "_view_module": "@jupyter-widgets/controls",
      "_view_module_version": "1.5.0",
      "_view_name": "HBoxView",
      "box_style": "",
      "children": [
       "IPY_MODEL_6ed9df59e6564b079e0d0869f4b6c7c3",
       "IPY_MODEL_50a61d1ec01a47888c3cc627d15727b1",
       "IPY_MODEL_93166227044449be9db110b68fe1c2dd"
      ],
      "layout": "IPY_MODEL_73c574c7680d40efb87589e1e184c7c6"
     }
    },
    "33c3ff967ecd45cf983dd031af12e4aa": {
     "model_module": "@jupyter-widgets/controls",
     "model_module_version": "1.5.0",
     "model_name": "HTMLModel",
     "state": {
      "_dom_classes": [],
      "_model_module": "@jupyter-widgets/controls",
      "_model_module_version": "1.5.0",
      "_model_name": "HTMLModel",
      "_view_count": null,
      "_view_module": "@jupyter-widgets/controls",
      "_view_module_version": "1.5.0",
      "_view_name": "HTMLView",
      "description": "",
      "description_tooltip": null,
      "layout": "IPY_MODEL_b7404fd48c57441790e56ad0d2811e0e",
      "placeholder": "​",
      "style": "IPY_MODEL_756c0a1dc9b041c2b46165be8148b7d8",
      "value": " 104/104 [00:01&lt;00:00, 71.84 examples/s]"
     }
    },
    "3518e9011ab14fafb5f878ad610cea52": {
     "model_module": "@jupyter-widgets/controls",
     "model_module_version": "1.5.0",
     "model_name": "ProgressStyleModel",
     "state": {
      "_model_module": "@jupyter-widgets/controls",
      "_model_module_version": "1.5.0",
      "_model_name": "ProgressStyleModel",
      "_view_count": null,
      "_view_module": "@jupyter-widgets/base",
      "_view_module_version": "1.2.0",
      "_view_name": "StyleView",
      "bar_color": null,
      "description_width": ""
     }
    },
    "50a61d1ec01a47888c3cc627d15727b1": {
     "model_module": "@jupyter-widgets/controls",
     "model_module_version": "1.5.0",
     "model_name": "FloatProgressModel",
     "state": {
      "_dom_classes": [],
      "_model_module": "@jupyter-widgets/controls",
      "_model_module_version": "1.5.0",
      "_model_name": "FloatProgressModel",
      "_view_count": null,
      "_view_module": "@jupyter-widgets/controls",
      "_view_module_version": "1.5.0",
      "_view_name": "ProgressView",
      "bar_style": "success",
      "description": "",
      "description_tooltip": null,
      "layout": "IPY_MODEL_583b98828cc043fd81666ff37dd9877b",
      "max": 588,
      "min": 0,
      "orientation": "horizontal",
      "style": "IPY_MODEL_01f3bc90ef49488cbcb6ac5f94580b01",
      "value": 588
     }
    },
    "583b98828cc043fd81666ff37dd9877b": {
     "model_module": "@jupyter-widgets/base",
     "model_module_version": "1.2.0",
     "model_name": "LayoutModel",
     "state": {
      "_model_module": "@jupyter-widgets/base",
      "_model_module_version": "1.2.0",
      "_model_name": "LayoutModel",
      "_view_count": null,
      "_view_module": "@jupyter-widgets/base",
      "_view_module_version": "1.2.0",
      "_view_name": "LayoutView",
      "align_content": null,
      "align_items": null,
      "align_self": null,
      "border": null,
      "bottom": null,
      "display": null,
      "flex": null,
      "flex_flow": null,
      "grid_area": null,
      "grid_auto_columns": null,
      "grid_auto_flow": null,
      "grid_auto_rows": null,
      "grid_column": null,
      "grid_gap": null,
      "grid_row": null,
      "grid_template_areas": null,
      "grid_template_columns": null,
      "grid_template_rows": null,
      "height": null,
      "justify_content": null,
      "justify_items": null,
      "left": null,
      "margin": null,
      "max_height": null,
      "max_width": null,
      "min_height": null,
      "min_width": null,
      "object_fit": null,
      "object_position": null,
      "order": null,
      "overflow": null,
      "overflow_x": null,
      "overflow_y": null,
      "padding": null,
      "right": null,
      "top": null,
      "visibility": null,
      "width": null
     }
    },
    "6075a421c07f4c779e33d491bad2290d": {
     "model_module": "@jupyter-widgets/base",
     "model_module_version": "1.2.0",
     "model_name": "LayoutModel",
     "state": {
      "_model_module": "@jupyter-widgets/base",
      "_model_module_version": "1.2.0",
      "_model_name": "LayoutModel",
      "_view_count": null,
      "_view_module": "@jupyter-widgets/base",
      "_view_module_version": "1.2.0",
      "_view_name": "LayoutView",
      "align_content": null,
      "align_items": null,
      "align_self": null,
      "border": null,
      "bottom": null,
      "display": null,
      "flex": null,
      "flex_flow": null,
      "grid_area": null,
      "grid_auto_columns": null,
      "grid_auto_flow": null,
      "grid_auto_rows": null,
      "grid_column": null,
      "grid_gap": null,
      "grid_row": null,
      "grid_template_areas": null,
      "grid_template_columns": null,
      "grid_template_rows": null,
      "height": null,
      "justify_content": null,
      "justify_items": null,
      "left": null,
      "margin": null,
      "max_height": null,
      "max_width": null,
      "min_height": null,
      "min_width": null,
      "object_fit": null,
      "object_position": null,
      "order": null,
      "overflow": null,
      "overflow_x": null,
      "overflow_y": null,
      "padding": null,
      "right": null,
      "top": null,
      "visibility": null,
      "width": null
     }
    },
    "6255e9a414a941d3acf2a85eba0d98bd": {
     "model_module": "@jupyter-widgets/controls",
     "model_module_version": "1.5.0",
     "model_name": "HTMLModel",
     "state": {
      "_dom_classes": [],
      "_model_module": "@jupyter-widgets/controls",
      "_model_module_version": "1.5.0",
      "_model_name": "HTMLModel",
      "_view_count": null,
      "_view_module": "@jupyter-widgets/controls",
      "_view_module_version": "1.5.0",
      "_view_name": "HTMLView",
      "description": "",
      "description_tooltip": null,
      "layout": "IPY_MODEL_e6038fb313b34a4d94a06df80e25c3c8",
      "placeholder": "​",
      "style": "IPY_MODEL_85f8752f84b94887b53a1d022296097e",
      "value": " 0/20 [01:16&lt;?, ?it/s]"
     }
    },
    "6a3e0a38bd294289bce24f90350628e0": {
     "model_module": "@jupyter-widgets/controls",
     "model_module_version": "1.5.0",
     "model_name": "HBoxModel",
     "state": {
      "_dom_classes": [],
      "_model_module": "@jupyter-widgets/controls",
      "_model_module_version": "1.5.0",
      "_model_name": "HBoxModel",
      "_view_count": null,
      "_view_module": "@jupyter-widgets/controls",
      "_view_module_version": "1.5.0",
      "_view_name": "HBoxView",
      "box_style": "",
      "children": [
       "IPY_MODEL_02c94446b5f54e8b8ba809ea619f2c68",
       "IPY_MODEL_e3dd14535aeb467f88c2d0bf8a6fd744",
       "IPY_MODEL_33c3ff967ecd45cf983dd031af12e4aa"
      ],
      "layout": "IPY_MODEL_ecfc758601dd4a339fd3a07349a12fb7"
     }
    },
    "6c4b355c9f9746239e2e8dc84593b80e": {
     "model_module": "@jupyter-widgets/controls",
     "model_module_version": "1.5.0",
     "model_name": "HTMLModel",
     "state": {
      "_dom_classes": [],
      "_model_module": "@jupyter-widgets/controls",
      "_model_module_version": "1.5.0",
      "_model_name": "HTMLModel",
      "_view_count": null,
      "_view_module": "@jupyter-widgets/controls",
      "_view_module_version": "1.5.0",
      "_view_name": "HTMLView",
      "description": "",
      "description_tooltip": null,
      "layout": "IPY_MODEL_78503b06278542afa5b1d79231fa7565",
      "placeholder": "​",
      "style": "IPY_MODEL_774e25b571ec42978387d78f30240982",
      "value": " 1/74 [01:16&lt;1:23:52, 68.94s/it]"
     }
    },
    "6ed9df59e6564b079e0d0869f4b6c7c3": {
     "model_module": "@jupyter-widgets/controls",
     "model_module_version": "1.5.0",
     "model_name": "HTMLModel",
     "state": {
      "_dom_classes": [],
      "_model_module": "@jupyter-widgets/controls",
      "_model_module_version": "1.5.0",
      "_model_name": "HTMLModel",
      "_view_count": null,
      "_view_module": "@jupyter-widgets/controls",
      "_view_module_version": "1.5.0",
      "_view_name": "HTMLView",
      "description": "",
      "description_tooltip": null,
      "layout": "IPY_MODEL_6075a421c07f4c779e33d491bad2290d",
      "placeholder": "​",
      "style": "IPY_MODEL_f69425a159be49ec81fca76d3b4bf083",
      "value": "Map: 100%"
     }
    },
    "729005743df14ea7b40820e6e67590f7": {
     "model_module": "@jupyter-widgets/base",
     "model_module_version": "1.2.0",
     "model_name": "LayoutModel",
     "state": {
      "_model_module": "@jupyter-widgets/base",
      "_model_module_version": "1.2.0",
      "_model_name": "LayoutModel",
      "_view_count": null,
      "_view_module": "@jupyter-widgets/base",
      "_view_module_version": "1.2.0",
      "_view_name": "LayoutView",
      "align_content": null,
      "align_items": null,
      "align_self": null,
      "border": null,
      "bottom": null,
      "display": null,
      "flex": null,
      "flex_flow": null,
      "grid_area": null,
      "grid_auto_columns": null,
      "grid_auto_flow": null,
      "grid_auto_rows": null,
      "grid_column": null,
      "grid_gap": null,
      "grid_row": null,
      "grid_template_areas": null,
      "grid_template_columns": null,
      "grid_template_rows": null,
      "height": null,
      "justify_content": null,
      "justify_items": null,
      "left": null,
      "margin": null,
      "max_height": null,
      "max_width": null,
      "min_height": null,
      "min_width": null,
      "object_fit": null,
      "object_position": null,
      "order": null,
      "overflow": null,
      "overflow_x": null,
      "overflow_y": null,
      "padding": null,
      "right": null,
      "top": null,
      "visibility": null,
      "width": null
     }
    },
    "73c574c7680d40efb87589e1e184c7c6": {
     "model_module": "@jupyter-widgets/base",
     "model_module_version": "1.2.0",
     "model_name": "LayoutModel",
     "state": {
      "_model_module": "@jupyter-widgets/base",
      "_model_module_version": "1.2.0",
      "_model_name": "LayoutModel",
      "_view_count": null,
      "_view_module": "@jupyter-widgets/base",
      "_view_module_version": "1.2.0",
      "_view_name": "LayoutView",
      "align_content": null,
      "align_items": null,
      "align_self": null,
      "border": null,
      "bottom": null,
      "display": null,
      "flex": null,
      "flex_flow": null,
      "grid_area": null,
      "grid_auto_columns": null,
      "grid_auto_flow": null,
      "grid_auto_rows": null,
      "grid_column": null,
      "grid_gap": null,
      "grid_row": null,
      "grid_template_areas": null,
      "grid_template_columns": null,
      "grid_template_rows": null,
      "height": null,
      "justify_content": null,
      "justify_items": null,
      "left": null,
      "margin": null,
      "max_height": null,
      "max_width": null,
      "min_height": null,
      "min_width": null,
      "object_fit": null,
      "object_position": null,
      "order": null,
      "overflow": null,
      "overflow_x": null,
      "overflow_y": null,
      "padding": null,
      "right": null,
      "top": null,
      "visibility": null,
      "width": null
     }
    },
    "756c0a1dc9b041c2b46165be8148b7d8": {
     "model_module": "@jupyter-widgets/controls",
     "model_module_version": "1.5.0",
     "model_name": "DescriptionStyleModel",
     "state": {
      "_model_module": "@jupyter-widgets/controls",
      "_model_module_version": "1.5.0",
      "_model_name": "DescriptionStyleModel",
      "_view_count": null,
      "_view_module": "@jupyter-widgets/base",
      "_view_module_version": "1.2.0",
      "_view_name": "StyleView",
      "description_width": ""
     }
    },
    "774e25b571ec42978387d78f30240982": {
     "model_module": "@jupyter-widgets/controls",
     "model_module_version": "1.5.0",
     "model_name": "DescriptionStyleModel",
     "state": {
      "_model_module": "@jupyter-widgets/controls",
      "_model_module_version": "1.5.0",
      "_model_name": "DescriptionStyleModel",
      "_view_count": null,
      "_view_module": "@jupyter-widgets/base",
      "_view_module_version": "1.2.0",
      "_view_name": "StyleView",
      "description_width": ""
     }
    },
    "78503b06278542afa5b1d79231fa7565": {
     "model_module": "@jupyter-widgets/base",
     "model_module_version": "1.2.0",
     "model_name": "LayoutModel",
     "state": {
      "_model_module": "@jupyter-widgets/base",
      "_model_module_version": "1.2.0",
      "_model_name": "LayoutModel",
      "_view_count": null,
      "_view_module": "@jupyter-widgets/base",
      "_view_module_version": "1.2.0",
      "_view_name": "LayoutView",
      "align_content": null,
      "align_items": null,
      "align_self": null,
      "border": null,
      "bottom": null,
      "display": null,
      "flex": null,
      "flex_flow": null,
      "grid_area": null,
      "grid_auto_columns": null,
      "grid_auto_flow": null,
      "grid_auto_rows": null,
      "grid_column": null,
      "grid_gap": null,
      "grid_row": null,
      "grid_template_areas": null,
      "grid_template_columns": null,
      "grid_template_rows": null,
      "height": null,
      "justify_content": null,
      "justify_items": null,
      "left": null,
      "margin": null,
      "max_height": null,
      "max_width": null,
      "min_height": null,
      "min_width": null,
      "object_fit": null,
      "object_position": null,
      "order": null,
      "overflow": null,
      "overflow_x": null,
      "overflow_y": null,
      "padding": null,
      "right": null,
      "top": null,
      "visibility": null,
      "width": null
     }
    },
    "7b26188d53e741b7a94746d2200daa38": {
     "model_module": "@jupyter-widgets/controls",
     "model_module_version": "1.5.0",
     "model_name": "DescriptionStyleModel",
     "state": {
      "_model_module": "@jupyter-widgets/controls",
      "_model_module_version": "1.5.0",
      "_model_name": "DescriptionStyleModel",
      "_view_count": null,
      "_view_module": "@jupyter-widgets/base",
      "_view_module_version": "1.2.0",
      "_view_name": "StyleView",
      "description_width": ""
     }
    },
    "844b6fce7d1d46588e03c800909fce70": {
     "model_module": "@jupyter-widgets/base",
     "model_module_version": "1.2.0",
     "model_name": "LayoutModel",
     "state": {
      "_model_module": "@jupyter-widgets/base",
      "_model_module_version": "1.2.0",
      "_model_name": "LayoutModel",
      "_view_count": null,
      "_view_module": "@jupyter-widgets/base",
      "_view_module_version": "1.2.0",
      "_view_name": "LayoutView",
      "align_content": null,
      "align_items": null,
      "align_self": null,
      "border": null,
      "bottom": null,
      "display": null,
      "flex": null,
      "flex_flow": null,
      "grid_area": null,
      "grid_auto_columns": null,
      "grid_auto_flow": null,
      "grid_auto_rows": null,
      "grid_column": null,
      "grid_gap": null,
      "grid_row": null,
      "grid_template_areas": null,
      "grid_template_columns": null,
      "grid_template_rows": null,
      "height": null,
      "justify_content": null,
      "justify_items": null,
      "left": null,
      "margin": null,
      "max_height": null,
      "max_width": null,
      "min_height": null,
      "min_width": null,
      "object_fit": null,
      "object_position": null,
      "order": null,
      "overflow": null,
      "overflow_x": null,
      "overflow_y": null,
      "padding": null,
      "right": null,
      "top": null,
      "visibility": null,
      "width": null
     }
    },
    "85f8752f84b94887b53a1d022296097e": {
     "model_module": "@jupyter-widgets/controls",
     "model_module_version": "1.5.0",
     "model_name": "DescriptionStyleModel",
     "state": {
      "_model_module": "@jupyter-widgets/controls",
      "_model_module_version": "1.5.0",
      "_model_name": "DescriptionStyleModel",
      "_view_count": null,
      "_view_module": "@jupyter-widgets/base",
      "_view_module_version": "1.2.0",
      "_view_name": "StyleView",
      "description_width": ""
     }
    },
    "93166227044449be9db110b68fe1c2dd": {
     "model_module": "@jupyter-widgets/controls",
     "model_module_version": "1.5.0",
     "model_name": "HTMLModel",
     "state": {
      "_dom_classes": [],
      "_model_module": "@jupyter-widgets/controls",
      "_model_module_version": "1.5.0",
      "_model_name": "HTMLModel",
      "_view_count": null,
      "_view_module": "@jupyter-widgets/controls",
      "_view_module_version": "1.5.0",
      "_view_name": "HTMLView",
      "description": "",
      "description_tooltip": null,
      "layout": "IPY_MODEL_a3fbc184b5c541849f1346afcd53974a",
      "placeholder": "​",
      "style": "IPY_MODEL_7b26188d53e741b7a94746d2200daa38",
      "value": " 588/588 [00:10&lt;00:00, 75.84 examples/s]"
     }
    },
    "a0d1c252c5a54549b086c3ddf4a9fb25": {
     "model_module": "@jupyter-widgets/base",
     "model_module_version": "1.2.0",
     "model_name": "LayoutModel",
     "state": {
      "_model_module": "@jupyter-widgets/base",
      "_model_module_version": "1.2.0",
      "_model_name": "LayoutModel",
      "_view_count": null,
      "_view_module": "@jupyter-widgets/base",
      "_view_module_version": "1.2.0",
      "_view_name": "LayoutView",
      "align_content": null,
      "align_items": null,
      "align_self": null,
      "border": null,
      "bottom": null,
      "display": null,
      "flex": null,
      "flex_flow": null,
      "grid_area": null,
      "grid_auto_columns": null,
      "grid_auto_flow": null,
      "grid_auto_rows": null,
      "grid_column": null,
      "grid_gap": null,
      "grid_row": null,
      "grid_template_areas": null,
      "grid_template_columns": null,
      "grid_template_rows": null,
      "height": null,
      "justify_content": null,
      "justify_items": null,
      "left": null,
      "margin": null,
      "max_height": null,
      "max_width": null,
      "min_height": null,
      "min_width": null,
      "object_fit": null,
      "object_position": null,
      "order": null,
      "overflow": null,
      "overflow_x": null,
      "overflow_y": null,
      "padding": null,
      "right": null,
      "top": null,
      "visibility": null,
      "width": null
     }
    },
    "a3fbc184b5c541849f1346afcd53974a": {
     "model_module": "@jupyter-widgets/base",
     "model_module_version": "1.2.0",
     "model_name": "LayoutModel",
     "state": {
      "_model_module": "@jupyter-widgets/base",
      "_model_module_version": "1.2.0",
      "_model_name": "LayoutModel",
      "_view_count": null,
      "_view_module": "@jupyter-widgets/base",
      "_view_module_version": "1.2.0",
      "_view_name": "LayoutView",
      "align_content": null,
      "align_items": null,
      "align_self": null,
      "border": null,
      "bottom": null,
      "display": null,
      "flex": null,
      "flex_flow": null,
      "grid_area": null,
      "grid_auto_columns": null,
      "grid_auto_flow": null,
      "grid_auto_rows": null,
      "grid_column": null,
      "grid_gap": null,
      "grid_row": null,
      "grid_template_areas": null,
      "grid_template_columns": null,
      "grid_template_rows": null,
      "height": null,
      "justify_content": null,
      "justify_items": null,
      "left": null,
      "margin": null,
      "max_height": null,
      "max_width": null,
      "min_height": null,
      "min_width": null,
      "object_fit": null,
      "object_position": null,
      "order": null,
      "overflow": null,
      "overflow_x": null,
      "overflow_y": null,
      "padding": null,
      "right": null,
      "top": null,
      "visibility": null,
      "width": null
     }
    },
    "ab7d311f5a2c4978906a1995c2c2b41e": {
     "model_module": "@jupyter-widgets/controls",
     "model_module_version": "1.5.0",
     "model_name": "ProgressStyleModel",
     "state": {
      "_model_module": "@jupyter-widgets/controls",
      "_model_module_version": "1.5.0",
      "_model_name": "ProgressStyleModel",
      "_view_count": null,
      "_view_module": "@jupyter-widgets/base",
      "_view_module_version": "1.2.0",
      "_view_name": "StyleView",
      "bar_color": null,
      "description_width": ""
     }
    },
    "af61871e8f6b4c239470692b8d3da468": {
     "model_module": "@jupyter-widgets/base",
     "model_module_version": "1.2.0",
     "model_name": "LayoutModel",
     "state": {
      "_model_module": "@jupyter-widgets/base",
      "_model_module_version": "1.2.0",
      "_model_name": "LayoutModel",
      "_view_count": null,
      "_view_module": "@jupyter-widgets/base",
      "_view_module_version": "1.2.0",
      "_view_name": "LayoutView",
      "align_content": null,
      "align_items": null,
      "align_self": null,
      "border": null,
      "bottom": null,
      "display": null,
      "flex": null,
      "flex_flow": null,
      "grid_area": null,
      "grid_auto_columns": null,
      "grid_auto_flow": null,
      "grid_auto_rows": null,
      "grid_column": null,
      "grid_gap": null,
      "grid_row": null,
      "grid_template_areas": null,
      "grid_template_columns": null,
      "grid_template_rows": null,
      "height": null,
      "justify_content": null,
      "justify_items": null,
      "left": null,
      "margin": null,
      "max_height": null,
      "max_width": null,
      "min_height": null,
      "min_width": null,
      "object_fit": null,
      "object_position": null,
      "order": null,
      "overflow": null,
      "overflow_x": null,
      "overflow_y": null,
      "padding": null,
      "right": null,
      "top": null,
      "visibility": null,
      "width": null
     }
    },
    "b6ca068a1b474f97a0ac65e61a05a7ab": {
     "model_module": "@jupyter-widgets/controls",
     "model_module_version": "1.5.0",
     "model_name": "FloatProgressModel",
     "state": {
      "_dom_classes": [],
      "_model_module": "@jupyter-widgets/controls",
      "_model_module_version": "1.5.0",
      "_model_name": "FloatProgressModel",
      "_view_count": null,
      "_view_module": "@jupyter-widgets/controls",
      "_view_module_version": "1.5.0",
      "_view_name": "ProgressView",
      "bar_style": "danger",
      "description": "",
      "description_tooltip": null,
      "layout": "IPY_MODEL_2a188fbc5e314be998483a51f55d5d53",
      "max": 20,
      "min": 0,
      "orientation": "horizontal",
      "style": "IPY_MODEL_3518e9011ab14fafb5f878ad610cea52",
      "value": 0
     }
    },
    "b7404fd48c57441790e56ad0d2811e0e": {
     "model_module": "@jupyter-widgets/base",
     "model_module_version": "1.2.0",
     "model_name": "LayoutModel",
     "state": {
      "_model_module": "@jupyter-widgets/base",
      "_model_module_version": "1.2.0",
      "_model_name": "LayoutModel",
      "_view_count": null,
      "_view_module": "@jupyter-widgets/base",
      "_view_module_version": "1.2.0",
      "_view_name": "LayoutView",
      "align_content": null,
      "align_items": null,
      "align_self": null,
      "border": null,
      "bottom": null,
      "display": null,
      "flex": null,
      "flex_flow": null,
      "grid_area": null,
      "grid_auto_columns": null,
      "grid_auto_flow": null,
      "grid_auto_rows": null,
      "grid_column": null,
      "grid_gap": null,
      "grid_row": null,
      "grid_template_areas": null,
      "grid_template_columns": null,
      "grid_template_rows": null,
      "height": null,
      "justify_content": null,
      "justify_items": null,
      "left": null,
      "margin": null,
      "max_height": null,
      "max_width": null,
      "min_height": null,
      "min_width": null,
      "object_fit": null,
      "object_position": null,
      "order": null,
      "overflow": null,
      "overflow_x": null,
      "overflow_y": null,
      "padding": null,
      "right": null,
      "top": null,
      "visibility": null,
      "width": null
     }
    },
    "c16c1378b8774673808c4702af03ada9": {
     "model_module": "@jupyter-widgets/controls",
     "model_module_version": "1.5.0",
     "model_name": "FloatProgressModel",
     "state": {
      "_dom_classes": [],
      "_model_module": "@jupyter-widgets/controls",
      "_model_module_version": "1.5.0",
      "_model_name": "FloatProgressModel",
      "_view_count": null,
      "_view_module": "@jupyter-widgets/controls",
      "_view_module_version": "1.5.0",
      "_view_name": "ProgressView",
      "bar_style": "danger",
      "description": "",
      "description_tooltip": null,
      "layout": "IPY_MODEL_af61871e8f6b4c239470692b8d3da468",
      "max": 74,
      "min": 0,
      "orientation": "horizontal",
      "style": "IPY_MODEL_ab7d311f5a2c4978906a1995c2c2b41e",
      "value": 1
     }
    },
    "c6cab69c321943238b75d07bfccab69e": {
     "model_module": "@jupyter-widgets/controls",
     "model_module_version": "1.5.0",
     "model_name": "HTMLModel",
     "state": {
      "_dom_classes": [],
      "_model_module": "@jupyter-widgets/controls",
      "_model_module_version": "1.5.0",
      "_model_name": "HTMLModel",
      "_view_count": null,
      "_view_module": "@jupyter-widgets/controls",
      "_view_module_version": "1.5.0",
      "_view_name": "HTMLView",
      "description": "",
      "description_tooltip": null,
      "layout": "IPY_MODEL_2d2d0f840085488eb6266f69bfd9f785",
      "placeholder": "​",
      "style": "IPY_MODEL_f8bbb0de15e5434e8e9d6a1e31c69489",
      "value": "  0%"
     }
    },
    "c6d2822a2f164b9c9e23ff4ece7af7aa": {
     "model_module": "@jupyter-widgets/controls",
     "model_module_version": "1.5.0",
     "model_name": "HBoxModel",
     "state": {
      "_dom_classes": [],
      "_model_module": "@jupyter-widgets/controls",
      "_model_module_version": "1.5.0",
      "_model_name": "HBoxModel",
      "_view_count": null,
      "_view_module": "@jupyter-widgets/controls",
      "_view_module_version": "1.5.0",
      "_view_name": "HBoxView",
      "box_style": "",
      "children": [
       "IPY_MODEL_c6cab69c321943238b75d07bfccab69e",
       "IPY_MODEL_b6ca068a1b474f97a0ac65e61a05a7ab",
       "IPY_MODEL_6255e9a414a941d3acf2a85eba0d98bd"
      ],
      "layout": "IPY_MODEL_729005743df14ea7b40820e6e67590f7"
     }
    },
    "e3dd14535aeb467f88c2d0bf8a6fd744": {
     "model_module": "@jupyter-widgets/controls",
     "model_module_version": "1.5.0",
     "model_name": "FloatProgressModel",
     "state": {
      "_dom_classes": [],
      "_model_module": "@jupyter-widgets/controls",
      "_model_module_version": "1.5.0",
      "_model_name": "FloatProgressModel",
      "_view_count": null,
      "_view_module": "@jupyter-widgets/controls",
      "_view_module_version": "1.5.0",
      "_view_name": "ProgressView",
      "bar_style": "success",
      "description": "",
      "description_tooltip": null,
      "layout": "IPY_MODEL_f8b7be3d402443fa87903b38c48d0294",
      "max": 104,
      "min": 0,
      "orientation": "horizontal",
      "style": "IPY_MODEL_f6d07b497fbc4c439d3da7420776e31c",
      "value": 104
     }
    },
    "e6038fb313b34a4d94a06df80e25c3c8": {
     "model_module": "@jupyter-widgets/base",
     "model_module_version": "1.2.0",
     "model_name": "LayoutModel",
     "state": {
      "_model_module": "@jupyter-widgets/base",
      "_model_module_version": "1.2.0",
      "_model_name": "LayoutModel",
      "_view_count": null,
      "_view_module": "@jupyter-widgets/base",
      "_view_module_version": "1.2.0",
      "_view_name": "LayoutView",
      "align_content": null,
      "align_items": null,
      "align_self": null,
      "border": null,
      "bottom": null,
      "display": null,
      "flex": null,
      "flex_flow": null,
      "grid_area": null,
      "grid_auto_columns": null,
      "grid_auto_flow": null,
      "grid_auto_rows": null,
      "grid_column": null,
      "grid_gap": null,
      "grid_row": null,
      "grid_template_areas": null,
      "grid_template_columns": null,
      "grid_template_rows": null,
      "height": null,
      "justify_content": null,
      "justify_items": null,
      "left": null,
      "margin": null,
      "max_height": null,
      "max_width": null,
      "min_height": null,
      "min_width": null,
      "object_fit": null,
      "object_position": null,
      "order": null,
      "overflow": null,
      "overflow_x": null,
      "overflow_y": null,
      "padding": null,
      "right": null,
      "top": null,
      "visibility": null,
      "width": null
     }
    },
    "ec2be8822f784af1ae05bcb4bc9b8dab": {
     "model_module": "@jupyter-widgets/base",
     "model_module_version": "1.2.0",
     "model_name": "LayoutModel",
     "state": {
      "_model_module": "@jupyter-widgets/base",
      "_model_module_version": "1.2.0",
      "_model_name": "LayoutModel",
      "_view_count": null,
      "_view_module": "@jupyter-widgets/base",
      "_view_module_version": "1.2.0",
      "_view_name": "LayoutView",
      "align_content": null,
      "align_items": null,
      "align_self": null,
      "border": null,
      "bottom": null,
      "display": null,
      "flex": null,
      "flex_flow": null,
      "grid_area": null,
      "grid_auto_columns": null,
      "grid_auto_flow": null,
      "grid_auto_rows": null,
      "grid_column": null,
      "grid_gap": null,
      "grid_row": null,
      "grid_template_areas": null,
      "grid_template_columns": null,
      "grid_template_rows": null,
      "height": null,
      "justify_content": null,
      "justify_items": null,
      "left": null,
      "margin": null,
      "max_height": null,
      "max_width": null,
      "min_height": null,
      "min_width": null,
      "object_fit": null,
      "object_position": null,
      "order": null,
      "overflow": null,
      "overflow_x": null,
      "overflow_y": null,
      "padding": null,
      "right": null,
      "top": null,
      "visibility": null,
      "width": null
     }
    },
    "ecfc758601dd4a339fd3a07349a12fb7": {
     "model_module": "@jupyter-widgets/base",
     "model_module_version": "1.2.0",
     "model_name": "LayoutModel",
     "state": {
      "_model_module": "@jupyter-widgets/base",
      "_model_module_version": "1.2.0",
      "_model_name": "LayoutModel",
      "_view_count": null,
      "_view_module": "@jupyter-widgets/base",
      "_view_module_version": "1.2.0",
      "_view_name": "LayoutView",
      "align_content": null,
      "align_items": null,
      "align_self": null,
      "border": null,
      "bottom": null,
      "display": null,
      "flex": null,
      "flex_flow": null,
      "grid_area": null,
      "grid_auto_columns": null,
      "grid_auto_flow": null,
      "grid_auto_rows": null,
      "grid_column": null,
      "grid_gap": null,
      "grid_row": null,
      "grid_template_areas": null,
      "grid_template_columns": null,
      "grid_template_rows": null,
      "height": null,
      "justify_content": null,
      "justify_items": null,
      "left": null,
      "margin": null,
      "max_height": null,
      "max_width": null,
      "min_height": null,
      "min_width": null,
      "object_fit": null,
      "object_position": null,
      "order": null,
      "overflow": null,
      "overflow_x": null,
      "overflow_y": null,
      "padding": null,
      "right": null,
      "top": null,
      "visibility": null,
      "width": null
     }
    },
    "f69425a159be49ec81fca76d3b4bf083": {
     "model_module": "@jupyter-widgets/controls",
     "model_module_version": "1.5.0",
     "model_name": "DescriptionStyleModel",
     "state": {
      "_model_module": "@jupyter-widgets/controls",
      "_model_module_version": "1.5.0",
      "_model_name": "DescriptionStyleModel",
      "_view_count": null,
      "_view_module": "@jupyter-widgets/base",
      "_view_module_version": "1.2.0",
      "_view_name": "StyleView",
      "description_width": ""
     }
    },
    "f6d07b497fbc4c439d3da7420776e31c": {
     "model_module": "@jupyter-widgets/controls",
     "model_module_version": "1.5.0",
     "model_name": "ProgressStyleModel",
     "state": {
      "_model_module": "@jupyter-widgets/controls",
      "_model_module_version": "1.5.0",
      "_model_name": "ProgressStyleModel",
      "_view_count": null,
      "_view_module": "@jupyter-widgets/base",
      "_view_module_version": "1.2.0",
      "_view_name": "StyleView",
      "bar_color": null,
      "description_width": ""
     }
    },
    "f7fe6d45a6d048a191ab458b5a098574": {
     "model_module": "@jupyter-widgets/controls",
     "model_module_version": "1.5.0",
     "model_name": "HBoxModel",
     "state": {
      "_dom_classes": [],
      "_model_module": "@jupyter-widgets/controls",
      "_model_module_version": "1.5.0",
      "_model_name": "HBoxModel",
      "_view_count": null,
      "_view_module": "@jupyter-widgets/controls",
      "_view_module_version": "1.5.0",
      "_view_name": "HBoxView",
      "box_style": "",
      "children": [
       "IPY_MODEL_06f6305c5af84fc5ae5f4b274a70ee3f",
       "IPY_MODEL_c16c1378b8774673808c4702af03ada9",
       "IPY_MODEL_6c4b355c9f9746239e2e8dc84593b80e"
      ],
      "layout": "IPY_MODEL_844b6fce7d1d46588e03c800909fce70"
     }
    },
    "f8b7be3d402443fa87903b38c48d0294": {
     "model_module": "@jupyter-widgets/base",
     "model_module_version": "1.2.0",
     "model_name": "LayoutModel",
     "state": {
      "_model_module": "@jupyter-widgets/base",
      "_model_module_version": "1.2.0",
      "_model_name": "LayoutModel",
      "_view_count": null,
      "_view_module": "@jupyter-widgets/base",
      "_view_module_version": "1.2.0",
      "_view_name": "LayoutView",
      "align_content": null,
      "align_items": null,
      "align_self": null,
      "border": null,
      "bottom": null,
      "display": null,
      "flex": null,
      "flex_flow": null,
      "grid_area": null,
      "grid_auto_columns": null,
      "grid_auto_flow": null,
      "grid_auto_rows": null,
      "grid_column": null,
      "grid_gap": null,
      "grid_row": null,
      "grid_template_areas": null,
      "grid_template_columns": null,
      "grid_template_rows": null,
      "height": null,
      "justify_content": null,
      "justify_items": null,
      "left": null,
      "margin": null,
      "max_height": null,
      "max_width": null,
      "min_height": null,
      "min_width": null,
      "object_fit": null,
      "object_position": null,
      "order": null,
      "overflow": null,
      "overflow_x": null,
      "overflow_y": null,
      "padding": null,
      "right": null,
      "top": null,
      "visibility": null,
      "width": null
     }
    },
    "f8bbb0de15e5434e8e9d6a1e31c69489": {
     "model_module": "@jupyter-widgets/controls",
     "model_module_version": "1.5.0",
     "model_name": "DescriptionStyleModel",
     "state": {
      "_model_module": "@jupyter-widgets/controls",
      "_model_module_version": "1.5.0",
      "_model_name": "DescriptionStyleModel",
      "_view_count": null,
      "_view_module": "@jupyter-widgets/base",
      "_view_module_version": "1.2.0",
      "_view_name": "StyleView",
      "description_width": ""
     }
    }
   }
  }
 },
 "nbformat": 4,
 "nbformat_minor": 4
}
